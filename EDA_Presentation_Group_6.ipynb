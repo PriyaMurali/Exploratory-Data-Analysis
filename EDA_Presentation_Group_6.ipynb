{
  "nbformat": 4,
  "nbformat_minor": 0,
  "metadata": {
    "colab": {
      "name": "EDA Presentation - Group 6.ipynb",
      "provenance": [],
      "collapsed_sections": [],
      "include_colab_link": true
    },
    "kernelspec": {
      "name": "python3",
      "display_name": "Python 3"
    },
    "language_info": {
      "name": "python"
    }
  },
  "cells": [
    {
      "cell_type": "markdown",
      "metadata": {
        "id": "view-in-github",
        "colab_type": "text"
      },
      "source": [
        "<a href=\"https://colab.research.google.com/github/PriyaMurali/Exploratory-Data-Analysis/blob/master/EDA_Presentation_Group_6.ipynb\" target=\"_parent\"><img src=\"https://colab.research.google.com/assets/colab-badge.svg\" alt=\"Open In Colab\"/></a>"
      ]
    },
    {
      "cell_type": "code",
      "execution_count": null,
      "metadata": {
        "id": "Y7YwFja80Ljo"
      },
      "outputs": [],
      "source": [
        "#importing the library\n",
        "import numpy as np\n",
        "import pandas as pd\n",
        "import matplotlib.pyplot as plt\n",
        "import seaborn as sns"
      ]
    },
    {
      "cell_type": "code",
      "source": [
        "#importing the file\n",
        "url = \"/content/Canadasalesdata.csv\"\n",
        "data = pd.read_csv(url)"
      ],
      "metadata": {
        "id": "-RNXngKMIHZZ"
      },
      "execution_count": null,
      "outputs": []
    },
    {
      "cell_type": "code",
      "source": [
        "data.head()"
      ],
      "metadata": {
        "colab": {
          "base_uri": "https://localhost:8080/",
          "height": 206
        },
        "id": "CjzCtHfpIOBn",
        "outputId": "be0cf74d-71ef-49b1-ae38-e37e2d44c2ea"
      },
      "execution_count": null,
      "outputs": [
        {
          "output_type": "execute_result",
          "data": {
            "text/plain": [
              "       Model  Jan  Feb  Mar  Apr  May  Jun  Jul  Aug  Sep  Oct  Nov  Dec  \\\n",
              "0  Acura MDX   93  389  782  611  550  501    0    0    0    0    0    0   \n",
              "1    Audi Q7  210  210  236  303  292  303    0    0    0    0    0    0   \n",
              "2    Audi Q8  130  130  146  211  203  211    0    0    0    0    0    0   \n",
              "3     BMW X5  323  323  364  518  498  518    0    0    0    0    0    0   \n",
              "4     BMW X6   72   72   81  113  108  113    0    0    0    0    0    0   \n",
              "\n",
              "   Sumofsales Category  Year  \n",
              "0        2926      MLS  2021  \n",
              "1        1554      MLS  2021  \n",
              "2        1031      MLS  2021  \n",
              "3        2544      MLS  2021  \n",
              "4         559      MLS  2021  "
            ],
            "text/html": [
              "\n",
              "  <div id=\"df-d3275c7a-d624-4fbd-956f-cc53351a27ae\">\n",
              "    <div class=\"colab-df-container\">\n",
              "      <div>\n",
              "<style scoped>\n",
              "    .dataframe tbody tr th:only-of-type {\n",
              "        vertical-align: middle;\n",
              "    }\n",
              "\n",
              "    .dataframe tbody tr th {\n",
              "        vertical-align: top;\n",
              "    }\n",
              "\n",
              "    .dataframe thead th {\n",
              "        text-align: right;\n",
              "    }\n",
              "</style>\n",
              "<table border=\"1\" class=\"dataframe\">\n",
              "  <thead>\n",
              "    <tr style=\"text-align: right;\">\n",
              "      <th></th>\n",
              "      <th>Model</th>\n",
              "      <th>Jan</th>\n",
              "      <th>Feb</th>\n",
              "      <th>Mar</th>\n",
              "      <th>Apr</th>\n",
              "      <th>May</th>\n",
              "      <th>Jun</th>\n",
              "      <th>Jul</th>\n",
              "      <th>Aug</th>\n",
              "      <th>Sep</th>\n",
              "      <th>Oct</th>\n",
              "      <th>Nov</th>\n",
              "      <th>Dec</th>\n",
              "      <th>Sumofsales</th>\n",
              "      <th>Category</th>\n",
              "      <th>Year</th>\n",
              "    </tr>\n",
              "  </thead>\n",
              "  <tbody>\n",
              "    <tr>\n",
              "      <th>0</th>\n",
              "      <td>Acura MDX</td>\n",
              "      <td>93</td>\n",
              "      <td>389</td>\n",
              "      <td>782</td>\n",
              "      <td>611</td>\n",
              "      <td>550</td>\n",
              "      <td>501</td>\n",
              "      <td>0</td>\n",
              "      <td>0</td>\n",
              "      <td>0</td>\n",
              "      <td>0</td>\n",
              "      <td>0</td>\n",
              "      <td>0</td>\n",
              "      <td>2926</td>\n",
              "      <td>MLS</td>\n",
              "      <td>2021</td>\n",
              "    </tr>\n",
              "    <tr>\n",
              "      <th>1</th>\n",
              "      <td>Audi Q7</td>\n",
              "      <td>210</td>\n",
              "      <td>210</td>\n",
              "      <td>236</td>\n",
              "      <td>303</td>\n",
              "      <td>292</td>\n",
              "      <td>303</td>\n",
              "      <td>0</td>\n",
              "      <td>0</td>\n",
              "      <td>0</td>\n",
              "      <td>0</td>\n",
              "      <td>0</td>\n",
              "      <td>0</td>\n",
              "      <td>1554</td>\n",
              "      <td>MLS</td>\n",
              "      <td>2021</td>\n",
              "    </tr>\n",
              "    <tr>\n",
              "      <th>2</th>\n",
              "      <td>Audi Q8</td>\n",
              "      <td>130</td>\n",
              "      <td>130</td>\n",
              "      <td>146</td>\n",
              "      <td>211</td>\n",
              "      <td>203</td>\n",
              "      <td>211</td>\n",
              "      <td>0</td>\n",
              "      <td>0</td>\n",
              "      <td>0</td>\n",
              "      <td>0</td>\n",
              "      <td>0</td>\n",
              "      <td>0</td>\n",
              "      <td>1031</td>\n",
              "      <td>MLS</td>\n",
              "      <td>2021</td>\n",
              "    </tr>\n",
              "    <tr>\n",
              "      <th>3</th>\n",
              "      <td>BMW X5</td>\n",
              "      <td>323</td>\n",
              "      <td>323</td>\n",
              "      <td>364</td>\n",
              "      <td>518</td>\n",
              "      <td>498</td>\n",
              "      <td>518</td>\n",
              "      <td>0</td>\n",
              "      <td>0</td>\n",
              "      <td>0</td>\n",
              "      <td>0</td>\n",
              "      <td>0</td>\n",
              "      <td>0</td>\n",
              "      <td>2544</td>\n",
              "      <td>MLS</td>\n",
              "      <td>2021</td>\n",
              "    </tr>\n",
              "    <tr>\n",
              "      <th>4</th>\n",
              "      <td>BMW X6</td>\n",
              "      <td>72</td>\n",
              "      <td>72</td>\n",
              "      <td>81</td>\n",
              "      <td>113</td>\n",
              "      <td>108</td>\n",
              "      <td>113</td>\n",
              "      <td>0</td>\n",
              "      <td>0</td>\n",
              "      <td>0</td>\n",
              "      <td>0</td>\n",
              "      <td>0</td>\n",
              "      <td>0</td>\n",
              "      <td>559</td>\n",
              "      <td>MLS</td>\n",
              "      <td>2021</td>\n",
              "    </tr>\n",
              "  </tbody>\n",
              "</table>\n",
              "</div>\n",
              "      <button class=\"colab-df-convert\" onclick=\"convertToInteractive('df-d3275c7a-d624-4fbd-956f-cc53351a27ae')\"\n",
              "              title=\"Convert this dataframe to an interactive table.\"\n",
              "              style=\"display:none;\">\n",
              "        \n",
              "  <svg xmlns=\"http://www.w3.org/2000/svg\" height=\"24px\"viewBox=\"0 0 24 24\"\n",
              "       width=\"24px\">\n",
              "    <path d=\"M0 0h24v24H0V0z\" fill=\"none\"/>\n",
              "    <path d=\"M18.56 5.44l.94 2.06.94-2.06 2.06-.94-2.06-.94-.94-2.06-.94 2.06-2.06.94zm-11 1L8.5 8.5l.94-2.06 2.06-.94-2.06-.94L8.5 2.5l-.94 2.06-2.06.94zm10 10l.94 2.06.94-2.06 2.06-.94-2.06-.94-.94-2.06-.94 2.06-2.06.94z\"/><path d=\"M17.41 7.96l-1.37-1.37c-.4-.4-.92-.59-1.43-.59-.52 0-1.04.2-1.43.59L10.3 9.45l-7.72 7.72c-.78.78-.78 2.05 0 2.83L4 21.41c.39.39.9.59 1.41.59.51 0 1.02-.2 1.41-.59l7.78-7.78 2.81-2.81c.8-.78.8-2.07 0-2.86zM5.41 20L4 18.59l7.72-7.72 1.47 1.35L5.41 20z\"/>\n",
              "  </svg>\n",
              "      </button>\n",
              "      \n",
              "  <style>\n",
              "    .colab-df-container {\n",
              "      display:flex;\n",
              "      flex-wrap:wrap;\n",
              "      gap: 12px;\n",
              "    }\n",
              "\n",
              "    .colab-df-convert {\n",
              "      background-color: #E8F0FE;\n",
              "      border: none;\n",
              "      border-radius: 50%;\n",
              "      cursor: pointer;\n",
              "      display: none;\n",
              "      fill: #1967D2;\n",
              "      height: 32px;\n",
              "      padding: 0 0 0 0;\n",
              "      width: 32px;\n",
              "    }\n",
              "\n",
              "    .colab-df-convert:hover {\n",
              "      background-color: #E2EBFA;\n",
              "      box-shadow: 0px 1px 2px rgba(60, 64, 67, 0.3), 0px 1px 3px 1px rgba(60, 64, 67, 0.15);\n",
              "      fill: #174EA6;\n",
              "    }\n",
              "\n",
              "    [theme=dark] .colab-df-convert {\n",
              "      background-color: #3B4455;\n",
              "      fill: #D2E3FC;\n",
              "    }\n",
              "\n",
              "    [theme=dark] .colab-df-convert:hover {\n",
              "      background-color: #434B5C;\n",
              "      box-shadow: 0px 1px 3px 1px rgba(0, 0, 0, 0.15);\n",
              "      filter: drop-shadow(0px 1px 2px rgba(0, 0, 0, 0.3));\n",
              "      fill: #FFFFFF;\n",
              "    }\n",
              "  </style>\n",
              "\n",
              "      <script>\n",
              "        const buttonEl =\n",
              "          document.querySelector('#df-d3275c7a-d624-4fbd-956f-cc53351a27ae button.colab-df-convert');\n",
              "        buttonEl.style.display =\n",
              "          google.colab.kernel.accessAllowed ? 'block' : 'none';\n",
              "\n",
              "        async function convertToInteractive(key) {\n",
              "          const element = document.querySelector('#df-d3275c7a-d624-4fbd-956f-cc53351a27ae');\n",
              "          const dataTable =\n",
              "            await google.colab.kernel.invokeFunction('convertToInteractive',\n",
              "                                                     [key], {});\n",
              "          if (!dataTable) return;\n",
              "\n",
              "          const docLinkHtml = 'Like what you see? Visit the ' +\n",
              "            '<a target=\"_blank\" href=https://colab.research.google.com/notebooks/data_table.ipynb>data table notebook</a>'\n",
              "            + ' to learn more about interactive tables.';\n",
              "          element.innerHTML = '';\n",
              "          dataTable['output_type'] = 'display_data';\n",
              "          await google.colab.output.renderOutput(dataTable, element);\n",
              "          const docLink = document.createElement('div');\n",
              "          docLink.innerHTML = docLinkHtml;\n",
              "          element.appendChild(docLink);\n",
              "        }\n",
              "      </script>\n",
              "    </div>\n",
              "  </div>\n",
              "  "
            ]
          },
          "metadata": {},
          "execution_count": 3
        }
      ]
    },
    {
      "cell_type": "code",
      "source": [
        "#Rename the columns\n",
        "data = data.rename(columns={\"Sumofsales\" : \"Total_Sales\", \"Category\" : \"Car_Size\"})"
      ],
      "metadata": {
        "id": "B3lbASYiRRsJ"
      },
      "execution_count": null,
      "outputs": []
    },
    {
      "cell_type": "code",
      "source": [
        "data.describe"
      ],
      "metadata": {
        "colab": {
          "base_uri": "https://localhost:8080/"
        },
        "id": "E4lvF1D8IZyY",
        "outputId": "73c45338-5776-4b34-a94c-c9f9eb1357e4"
      },
      "execution_count": null,
      "outputs": [
        {
          "output_type": "execute_result",
          "data": {
            "text/plain": [
              "<bound method NDFrame.describe of                   Model  Jan  Feb   Mar   Apr   May   Jun   Jul   Aug   Sep  \\\n",
              "0             Acura MDX   93  389   782   611   550   501     0     0     0   \n",
              "1               Audi Q7  210  210   236   303   292   303     0     0     0   \n",
              "2               Audi Q8  130  130   146   211   203   211     0     0     0   \n",
              "3                BMW X5  323  323   364   518   498   518     0     0     0   \n",
              "4                BMW X6   72   72    81   113   108   113     0     0     0   \n",
              "..                  ...  ...  ...   ...   ...   ...   ...   ...   ...   ...   \n",
              "231      Subaru Outback  499  621   948  1065  1079   981  1074   845   644   \n",
              "232      Toyota 4Runner  605  393   784   762   854   681   824   903   522   \n",
              "233   Toyota Highlander  729  792  1184  1095  1185  1423  1347  1336  1114   \n",
              "234    Volkswagen Atlas  530  521   822   925   881   725   761   769   748   \n",
              "235  Volkswagen Touareg    7    2     5     2     1     3     2     0     1   \n",
              "\n",
              "      Oct   Nov   Dec  Total_Sales Car_Size  Year  \n",
              "0       0     0     0         2926      MLS  2021  \n",
              "1       0     0     0         1554      MLS  2021  \n",
              "2       0     0     0         1031      MLS  2021  \n",
              "3       0     0     0         2544      MLS  2021  \n",
              "4       0     0     0          559      MLS  2021  \n",
              "..    ...   ...   ...          ...      ...   ...  \n",
              "231   926  1184  1106        10972       MS  2019  \n",
              "232   690   663   549         8230       MS  2019  \n",
              "233  1366  1316   924        13811       MS  2019  \n",
              "234   933   695   601         8911       MS  2019  \n",
              "235     3     0     0           26       MS  2019  \n",
              "\n",
              "[236 rows x 16 columns]>"
            ]
          },
          "metadata": {},
          "execution_count": 4
        }
      ]
    },
    {
      "cell_type": "code",
      "source": [
        "data.shape"
      ],
      "metadata": {
        "colab": {
          "base_uri": "https://localhost:8080/"
        },
        "id": "Z56BAqzpepIg",
        "outputId": "8457ec03-2729-46ac-af17-c413757ec4df"
      },
      "execution_count": null,
      "outputs": [
        {
          "output_type": "execute_result",
          "data": {
            "text/plain": [
              "(236, 16)"
            ]
          },
          "metadata": {},
          "execution_count": 5
        }
      ]
    },
    {
      "cell_type": "code",
      "source": [
        "data.columns"
      ],
      "metadata": {
        "id": "T5t3xxeNe5LS",
        "outputId": "12042646-2c13-45f2-aeea-9c47667222a9",
        "colab": {
          "base_uri": "https://localhost:8080/"
        }
      },
      "execution_count": null,
      "outputs": [
        {
          "output_type": "execute_result",
          "data": {
            "text/plain": [
              "Index(['Model', 'Jan', 'Feb', 'Mar', 'Apr', 'May', 'Jun', 'Jul', 'Aug', 'Sep',\n",
              "       'Oct', 'Nov', 'Dec', 'Sumofsales', 'Category', 'Year'],\n",
              "      dtype='object')"
            ]
          },
          "metadata": {},
          "execution_count": 9
        }
      ]
    },
    {
      "cell_type": "code",
      "source": [
        "data['Jan']=data['Jan'].astype(str).astype(int)\n",
        "data['Feb']=data['Feb'].astype(str).astype(int)\n",
        "data['Mar']=data['Mar'].astype(str).astype(int)\n",
        "data['Apr']=data['Apr'].astype(str).astype(int)\n",
        "data['May']=data['May'].astype(str).astype(int)\n",
        "data['Jun']=data['Jun'].astype(str).astype(int)\n",
        "data['Jul']=data['Jul'].astype(str).astype(int)\n",
        "data['Aug']=data['Aug'].astype(str).astype(int)\n",
        "data['Sep']=data['Sep'].astype(str).astype(int)\n",
        "data['Oct']=data['Oct'].astype(str).astype(int)\n",
        "data['Nov']=data['Nov'].astype(str).astype(int)\n",
        "data['Dec']=data['Dec'].astype(str).astype(int)"
      ],
      "metadata": {
        "id": "l20ViGBMfgGw"
      },
      "execution_count": null,
      "outputs": []
    },
    {
      "cell_type": "code",
      "source": [
        "data.isnull().sum()"
      ],
      "metadata": {
        "colab": {
          "base_uri": "https://localhost:8080/"
        },
        "id": "EfA1vy_qg3Vy",
        "outputId": "b2377fea-9991-4ed5-ccab-fb1f3e16963e"
      },
      "execution_count": null,
      "outputs": [
        {
          "output_type": "execute_result",
          "data": {
            "text/plain": [
              "Model         0\n",
              "Jan           0\n",
              "Feb           0\n",
              "Mar           0\n",
              "Apr           0\n",
              "May           0\n",
              "Jun           0\n",
              "Jul           0\n",
              "Aug           0\n",
              "Sep           0\n",
              "Oct           0\n",
              "Nov           0\n",
              "Dec           0\n",
              "Sumofsales    0\n",
              "Category      0\n",
              "Year          0\n",
              "dtype: int64"
            ]
          },
          "metadata": {},
          "execution_count": 8
        }
      ]
    },
    {
      "cell_type": "code",
      "source": [
        "data[\"Model\"].unique()"
      ],
      "metadata": {
        "colab": {
          "base_uri": "https://localhost:8080/"
        },
        "id": "AllsUKQng_DI",
        "outputId": "4e84ff67-8d8e-44f2-c58c-422e0f18192b"
      },
      "execution_count": null,
      "outputs": [
        {
          "output_type": "execute_result",
          "data": {
            "text/plain": [
              "array(['Acura MDX', 'Audi Q7', 'Audi Q8', 'BMW X5', 'BMW X6',\n",
              "       'Cadillac XT5', 'Cadillac XT6', 'Genesis GV80', 'Infiniti QX60',\n",
              "       'Jaguar F0Pace', 'Land Rover Defender',\n",
              "       'Land Rover Discovery / LR4', 'Land Rover Range Rover Sport',\n",
              "       'Land Rover Range Rover Velar', 'Lexus GX', 'Lexus RX',\n",
              "       'Lincoln Aviator', 'Lincoln MKX/Nautilus', 'Maserati Levante',\n",
              "       'Mercedes0Benz GLE0Class', 'Porsche Cayenne', 'Tesla Model X',\n",
              "       'Volvo XC90', 'Alfa Romeo Stelvio', 'Audi eTron', 'Audi Q3',\n",
              "       'Audi Q5', 'BMW X1', 'BMW X2', 'Cadillac XT4', 'Infiniti QX30',\n",
              "       'Infiniti QX50', 'Jaguar E0Pace', 'Land Rover Discovery Sport',\n",
              "       'Land Rover Range Rover Evoque', 'Lexus NX', 'Lexus UX',\n",
              "       'Lincoln MKC', 'Mercedes0Benz GLA0Class',\n",
              "       'Mercedes0Benz GLC/GLK0Class', 'Volvo XC40', 'Volvo XC60',\n",
              "       'Infiniti QX55', 'Mercedes0Benz GLB', 'Tesla Model Y', 'BMW X7',\n",
              "       'Cadillac Escalade', 'Infiniti QX80', 'Land Rover Range Rover',\n",
              "       'Lexus LX', 'Lincoln Navigator', 'Mercedes0Benz G0Class',\n",
              "       'Mercedes0Benz GL/GLS0Class', 'Toyota Land Cruiser',\n",
              "       'Chevrolet Suburban', 'Chevrolet Tahoe', 'Ford Expedition',\n",
              "       'GMC Yukon', 'Jeep Grand Wagoneer', 'Nissan Armada',\n",
              "       'Toyota Sequoia', 'GMC Yukon XL', 'Kia Sorento', 'Kia Telluride',\n",
              "       'Mazda CX09', 'Nissan Murano', 'Nissan Pathfinder',\n",
              "       'Subaru Ascent', 'Subaru Outback', 'Toyota 4Runner',\n",
              "       'Toyota Highlander', 'Volkswagen Atlas', 'Buick Enclave',\n",
              "       'Chevrolet Blazer', 'Chevrolet TrailBlazer', 'Chevrolet Traverse',\n",
              "       'Dodge Durango', 'Ford Bronco Sport', 'Ford Edge', 'Ford Explorer',\n",
              "       'Ford Flex', 'GMC Acadia', 'Honda Passport', 'Honda Pilot',\n",
              "       'Hyundai Palisade', 'Hyundai Santa Fe', 'Jeep Grand Cherokee',\n",
              "       'Jeep Wrangler', 'Volkswagen Touareg'], dtype=object)"
            ]
          },
          "metadata": {},
          "execution_count": 25
        }
      ]
    },
    {
      "cell_type": "code",
      "source": [
        "len(data[\"Model\"].unique())"
      ],
      "metadata": {
        "colab": {
          "base_uri": "https://localhost:8080/"
        },
        "id": "cv-s9r4UhR7s",
        "outputId": "4b968d2d-3999-4086-f4b7-f76a097f815e"
      },
      "execution_count": null,
      "outputs": [
        {
          "output_type": "execute_result",
          "data": {
            "text/plain": [
              "89"
            ]
          },
          "metadata": {},
          "execution_count": 15
        }
      ]
    },
    {
      "cell_type": "code",
      "source": [
        "data['Model'].value_counts()"
      ],
      "metadata": {
        "colab": {
          "base_uri": "https://localhost:8080/"
        },
        "id": "-vkRMBqahZta",
        "outputId": "b92bebf2-abf5-489f-e8da-b06627b579a0"
      },
      "execution_count": null,
      "outputs": [
        {
          "output_type": "execute_result",
          "data": {
            "text/plain": [
              "Land Rover Range Rover Evoque    4\n",
              "Volvo XC60                       4\n",
              "Volvo XC40                       4\n",
              "Mercedes0Benz GLC/GLK0Class      4\n",
              "Mercedes0Benz GLA0Class          4\n",
              "                                ..\n",
              "Mercedes0Benz GLB                2\n",
              "Chevrolet TrailBlazer            1\n",
              "Ford Bronco Sport                1\n",
              "Infiniti QX55                    1\n",
              "Jeep Grand Wagoneer              1\n",
              "Name: Model, Length: 89, dtype: int64"
            ]
          },
          "metadata": {},
          "execution_count": 16
        }
      ]
    },
    {
      "cell_type": "code",
      "source": [
        "#For storing all the Land Rover Models\n",
        "land_rover_sales = data.loc[data['Model'].str.contains(\"Land Rover\", case=False) ]"
      ],
      "metadata": {
        "id": "PBbnQeVjh6rB"
      },
      "execution_count": null,
      "outputs": []
    },
    {
      "cell_type": "code",
      "source": [
        "volvo_sales = data.loc[data['Model'].str.contains(\"Volvo\", case=False) ]"
      ],
      "metadata": {
        "id": "WDEW9-VWunJA"
      },
      "execution_count": null,
      "outputs": []
    },
    {
      "cell_type": "code",
      "source": [
        "data_rr_vol = data.loc[data['Model'].str.contains(\"Land Rover|Volvo\", case=False) ]"
      ],
      "metadata": {
        "id": "ZLJ8J58GUq7D"
      },
      "execution_count": null,
      "outputs": []
    },
    {
      "cell_type": "code",
      "source": [
        "data_rr_vol = data_rr_vol.set_index('Model')"
      ],
      "metadata": {
        "id": "Z7LFK1dTV2sS"
      },
      "execution_count": null,
      "outputs": []
    },
    {
      "cell_type": "code",
      "source": [
        "data_rr_vol"
      ],
      "metadata": {
        "id": "EQfpG1rYWkCe"
      },
      "execution_count": null,
      "outputs": []
    },
    {
      "cell_type": "code",
      "source": [
        "data_rr_vol.head()"
      ],
      "metadata": {
        "colab": {
          "base_uri": "https://localhost:8080/",
          "height": 252
        },
        "id": "zOepo3TJWXAD",
        "outputId": "dadd351c-75bb-402c-ef5e-8002fd2f32bc"
      },
      "execution_count": null,
      "outputs": [
        {
          "output_type": "execute_result",
          "data": {
            "text/plain": [
              "                              Jan  Feb  Mar  Apr  May  Jun  Jul  Aug  Sep  \\\n",
              "Model                                                                       \n",
              "Land Rover Defender           216  216  243  129  124  129    0    0    0   \n",
              "Land Rover Discovery / LR4     13   13   15   21   20   21    0    0    0   \n",
              "Land Rover Range Rover Sport  263  263  296  282  271  282    0    0    0   \n",
              "Land Rover Range Rover Velar  105  105  118  149  143  149    0    0    0   \n",
              "Volvo XC90                    190  190  214  261  338  205    0    0    0   \n",
              "\n",
              "                              Oct  Nov  Dec  Total_Sales Car_Size  Year  \n",
              "Model                                                                    \n",
              "Land Rover Defender             0    0    0         1057      MLS  2021  \n",
              "Land Rover Discovery / LR4      0    0    0          103      MLS  2021  \n",
              "Land Rover Range Rover Sport    0    0    0         1657      MLS  2021  \n",
              "Land Rover Range Rover Velar    0    0    0          769      MLS  2021  \n",
              "Volvo XC90                      0    0    0         1398      MLS  2021  "
            ],
            "text/html": [
              "\n",
              "  <div id=\"df-e71b2438-aec3-4fc8-8806-7a6dda47edfc\">\n",
              "    <div class=\"colab-df-container\">\n",
              "      <div>\n",
              "<style scoped>\n",
              "    .dataframe tbody tr th:only-of-type {\n",
              "        vertical-align: middle;\n",
              "    }\n",
              "\n",
              "    .dataframe tbody tr th {\n",
              "        vertical-align: top;\n",
              "    }\n",
              "\n",
              "    .dataframe thead th {\n",
              "        text-align: right;\n",
              "    }\n",
              "</style>\n",
              "<table border=\"1\" class=\"dataframe\">\n",
              "  <thead>\n",
              "    <tr style=\"text-align: right;\">\n",
              "      <th></th>\n",
              "      <th>Jan</th>\n",
              "      <th>Feb</th>\n",
              "      <th>Mar</th>\n",
              "      <th>Apr</th>\n",
              "      <th>May</th>\n",
              "      <th>Jun</th>\n",
              "      <th>Jul</th>\n",
              "      <th>Aug</th>\n",
              "      <th>Sep</th>\n",
              "      <th>Oct</th>\n",
              "      <th>Nov</th>\n",
              "      <th>Dec</th>\n",
              "      <th>Total_Sales</th>\n",
              "      <th>Car_Size</th>\n",
              "      <th>Year</th>\n",
              "    </tr>\n",
              "    <tr>\n",
              "      <th>Model</th>\n",
              "      <th></th>\n",
              "      <th></th>\n",
              "      <th></th>\n",
              "      <th></th>\n",
              "      <th></th>\n",
              "      <th></th>\n",
              "      <th></th>\n",
              "      <th></th>\n",
              "      <th></th>\n",
              "      <th></th>\n",
              "      <th></th>\n",
              "      <th></th>\n",
              "      <th></th>\n",
              "      <th></th>\n",
              "      <th></th>\n",
              "    </tr>\n",
              "  </thead>\n",
              "  <tbody>\n",
              "    <tr>\n",
              "      <th>Land Rover Defender</th>\n",
              "      <td>216</td>\n",
              "      <td>216</td>\n",
              "      <td>243</td>\n",
              "      <td>129</td>\n",
              "      <td>124</td>\n",
              "      <td>129</td>\n",
              "      <td>0</td>\n",
              "      <td>0</td>\n",
              "      <td>0</td>\n",
              "      <td>0</td>\n",
              "      <td>0</td>\n",
              "      <td>0</td>\n",
              "      <td>1057</td>\n",
              "      <td>MLS</td>\n",
              "      <td>2021</td>\n",
              "    </tr>\n",
              "    <tr>\n",
              "      <th>Land Rover Discovery / LR4</th>\n",
              "      <td>13</td>\n",
              "      <td>13</td>\n",
              "      <td>15</td>\n",
              "      <td>21</td>\n",
              "      <td>20</td>\n",
              "      <td>21</td>\n",
              "      <td>0</td>\n",
              "      <td>0</td>\n",
              "      <td>0</td>\n",
              "      <td>0</td>\n",
              "      <td>0</td>\n",
              "      <td>0</td>\n",
              "      <td>103</td>\n",
              "      <td>MLS</td>\n",
              "      <td>2021</td>\n",
              "    </tr>\n",
              "    <tr>\n",
              "      <th>Land Rover Range Rover Sport</th>\n",
              "      <td>263</td>\n",
              "      <td>263</td>\n",
              "      <td>296</td>\n",
              "      <td>282</td>\n",
              "      <td>271</td>\n",
              "      <td>282</td>\n",
              "      <td>0</td>\n",
              "      <td>0</td>\n",
              "      <td>0</td>\n",
              "      <td>0</td>\n",
              "      <td>0</td>\n",
              "      <td>0</td>\n",
              "      <td>1657</td>\n",
              "      <td>MLS</td>\n",
              "      <td>2021</td>\n",
              "    </tr>\n",
              "    <tr>\n",
              "      <th>Land Rover Range Rover Velar</th>\n",
              "      <td>105</td>\n",
              "      <td>105</td>\n",
              "      <td>118</td>\n",
              "      <td>149</td>\n",
              "      <td>143</td>\n",
              "      <td>149</td>\n",
              "      <td>0</td>\n",
              "      <td>0</td>\n",
              "      <td>0</td>\n",
              "      <td>0</td>\n",
              "      <td>0</td>\n",
              "      <td>0</td>\n",
              "      <td>769</td>\n",
              "      <td>MLS</td>\n",
              "      <td>2021</td>\n",
              "    </tr>\n",
              "    <tr>\n",
              "      <th>Volvo XC90</th>\n",
              "      <td>190</td>\n",
              "      <td>190</td>\n",
              "      <td>214</td>\n",
              "      <td>261</td>\n",
              "      <td>338</td>\n",
              "      <td>205</td>\n",
              "      <td>0</td>\n",
              "      <td>0</td>\n",
              "      <td>0</td>\n",
              "      <td>0</td>\n",
              "      <td>0</td>\n",
              "      <td>0</td>\n",
              "      <td>1398</td>\n",
              "      <td>MLS</td>\n",
              "      <td>2021</td>\n",
              "    </tr>\n",
              "  </tbody>\n",
              "</table>\n",
              "</div>\n",
              "      <button class=\"colab-df-convert\" onclick=\"convertToInteractive('df-e71b2438-aec3-4fc8-8806-7a6dda47edfc')\"\n",
              "              title=\"Convert this dataframe to an interactive table.\"\n",
              "              style=\"display:none;\">\n",
              "        \n",
              "  <svg xmlns=\"http://www.w3.org/2000/svg\" height=\"24px\"viewBox=\"0 0 24 24\"\n",
              "       width=\"24px\">\n",
              "    <path d=\"M0 0h24v24H0V0z\" fill=\"none\"/>\n",
              "    <path d=\"M18.56 5.44l.94 2.06.94-2.06 2.06-.94-2.06-.94-.94-2.06-.94 2.06-2.06.94zm-11 1L8.5 8.5l.94-2.06 2.06-.94-2.06-.94L8.5 2.5l-.94 2.06-2.06.94zm10 10l.94 2.06.94-2.06 2.06-.94-2.06-.94-.94-2.06-.94 2.06-2.06.94z\"/><path d=\"M17.41 7.96l-1.37-1.37c-.4-.4-.92-.59-1.43-.59-.52 0-1.04.2-1.43.59L10.3 9.45l-7.72 7.72c-.78.78-.78 2.05 0 2.83L4 21.41c.39.39.9.59 1.41.59.51 0 1.02-.2 1.41-.59l7.78-7.78 2.81-2.81c.8-.78.8-2.07 0-2.86zM5.41 20L4 18.59l7.72-7.72 1.47 1.35L5.41 20z\"/>\n",
              "  </svg>\n",
              "      </button>\n",
              "      \n",
              "  <style>\n",
              "    .colab-df-container {\n",
              "      display:flex;\n",
              "      flex-wrap:wrap;\n",
              "      gap: 12px;\n",
              "    }\n",
              "\n",
              "    .colab-df-convert {\n",
              "      background-color: #E8F0FE;\n",
              "      border: none;\n",
              "      border-radius: 50%;\n",
              "      cursor: pointer;\n",
              "      display: none;\n",
              "      fill: #1967D2;\n",
              "      height: 32px;\n",
              "      padding: 0 0 0 0;\n",
              "      width: 32px;\n",
              "    }\n",
              "\n",
              "    .colab-df-convert:hover {\n",
              "      background-color: #E2EBFA;\n",
              "      box-shadow: 0px 1px 2px rgba(60, 64, 67, 0.3), 0px 1px 3px 1px rgba(60, 64, 67, 0.15);\n",
              "      fill: #174EA6;\n",
              "    }\n",
              "\n",
              "    [theme=dark] .colab-df-convert {\n",
              "      background-color: #3B4455;\n",
              "      fill: #D2E3FC;\n",
              "    }\n",
              "\n",
              "    [theme=dark] .colab-df-convert:hover {\n",
              "      background-color: #434B5C;\n",
              "      box-shadow: 0px 1px 3px 1px rgba(0, 0, 0, 0.15);\n",
              "      filter: drop-shadow(0px 1px 2px rgba(0, 0, 0, 0.3));\n",
              "      fill: #FFFFFF;\n",
              "    }\n",
              "  </style>\n",
              "\n",
              "      <script>\n",
              "        const buttonEl =\n",
              "          document.querySelector('#df-e71b2438-aec3-4fc8-8806-7a6dda47edfc button.colab-df-convert');\n",
              "        buttonEl.style.display =\n",
              "          google.colab.kernel.accessAllowed ? 'block' : 'none';\n",
              "\n",
              "        async function convertToInteractive(key) {\n",
              "          const element = document.querySelector('#df-e71b2438-aec3-4fc8-8806-7a6dda47edfc');\n",
              "          const dataTable =\n",
              "            await google.colab.kernel.invokeFunction('convertToInteractive',\n",
              "                                                     [key], {});\n",
              "          if (!dataTable) return;\n",
              "\n",
              "          const docLinkHtml = 'Like what you see? Visit the ' +\n",
              "            '<a target=\"_blank\" href=https://colab.research.google.com/notebooks/data_table.ipynb>data table notebook</a>'\n",
              "            + ' to learn more about interactive tables.';\n",
              "          element.innerHTML = '';\n",
              "          dataTable['output_type'] = 'display_data';\n",
              "          await google.colab.output.renderOutput(dataTable, element);\n",
              "          const docLink = document.createElement('div');\n",
              "          docLink.innerHTML = docLinkHtml;\n",
              "          element.appendChild(docLink);\n",
              "        }\n",
              "      </script>\n",
              "    </div>\n",
              "  </div>\n",
              "  "
            ]
          },
          "metadata": {},
          "execution_count": 15
        }
      ]
    },
    {
      "cell_type": "code",
      "source": [
        "land_rover_sales"
      ],
      "metadata": {
        "id": "WWiAq3MTiycf"
      },
      "execution_count": null,
      "outputs": []
    },
    {
      "cell_type": "code",
      "source": [
        "volvo_sales.head()\n"
      ],
      "metadata": {
        "id": "SueFbBP0u8Br"
      },
      "execution_count": null,
      "outputs": []
    },
    {
      "cell_type": "code",
      "source": [
        "#making models as the index\n",
        "land_rover_sales = land_rover_sales.set_index('Model')"
      ],
      "metadata": {
        "id": "Uh9k6U_0oK2c"
      },
      "execution_count": null,
      "outputs": []
    },
    {
      "cell_type": "code",
      "source": [
        "volvo_sales = volvo_sales.set_index('Model')"
      ],
      "metadata": {
        "id": "ILK0bXRovAtH"
      },
      "execution_count": null,
      "outputs": []
    },
    {
      "cell_type": "code",
      "source": [
        "#PLotting line graph for all LandRover and Volvo Models\n",
        "data_rr_vol['Total_Sales'].plot(kind='line', figsize= (12,5))\n",
        "plt.title(\"Range Rover Vs Volvo all Models Sale\", fontsize=17)\n",
        "plt.ylabel('Total Sales', fontsize=17)\n",
        "plt.xlabel('Models', fontsize=17)\n",
        "plt.xticks(rotation = 60)\n",
        "plt.show()"
      ],
      "metadata": {
        "colab": {
          "base_uri": "https://localhost:8080/",
          "height": 518
        },
        "id": "tsGVPMq6mTZV",
        "outputId": "f277a859-036f-4f85-b15e-d9acf17dc8aa"
      },
      "execution_count": null,
      "outputs": [
        {
          "output_type": "display_data",
          "data": {
            "text/plain": [
              "<Figure size 864x360 with 1 Axes>"
            ],
            "image/png": "[encoded data removed]"
          },
          "metadata": {
            "needs_background": "light"
          }
        }
      ]
    },
    {
      "cell_type": "code",
      "source": [
        "gbm = data.groupby('Year')[[\"Total_Sales\"]].sum().sort_values(by = 'Year', ascending = False)\n",
        "\n",
        "gbm[:].plot.line(data[\"Year\"], data[\"Total_Sales\"][data['Model']=='Land Rover Defender'],\n",
        "                 color = [\"red\"],figsize= (12,5), marker='o')       \n",
        "\n",
        "plt.title('Range Rover all Models Sale', fontsize=17)\n",
        "plt.xlabel('Year', fontsize=17)\n",
        "plt.ylabel('Total Car Sales', fontsize=17)\n",
        "plt.grid(True)\n",
        "plt.show()"
      ],
      "metadata": {
        "id": "FnBme4BMp8L8"
      },
      "execution_count": null,
      "outputs": []
    },
    {
      "cell_type": "code",
      "source": [
        "#Plotting a line graph for Total car sales\n",
        "gbm = data.groupby('Year')[[\"Total_Sales\"]].sum().sort_values(by = 'Year', ascending = False)\n",
        "\n",
        "gbm[:].plot.line(color = [\"red\"],figsize= (12,5), marker='o')       \n",
        "\n",
        "plt.title('Total Sales', fontsize=17)\n",
        "plt.xlabel('Year', fontsize=17)\n",
        "plt.ylabel('Total Car Sales', fontsize=17)\n",
        "plt.text(2020.25,300000,'Covid-19 stopped the world', fontdict={'size':16,'color':'g'})\n",
        "plt.grid(True)\n",
        "plt.show()"
      ],
      "metadata": {
        "id": "LhITBcjNp9PU",
        "colab": {
          "base_uri": "https://localhost:8080/",
          "height": 383
        },
        "outputId": "609bb20f-19af-4c80-aceb-e1d315ec3e35"
      },
      "execution_count": null,
      "outputs": [
        {
          "output_type": "display_data",
          "data": {
            "text/plain": [
              "<Figure size 864x360 with 1 Axes>"
            ],
            "image/png": "[encoded data removed]"
          },
          "metadata": {
            "needs_background": "light"
          }
        }
      ]
    },
    {
      "cell_type": "code",
      "source": [
        "df = pd.DataFrame(data, columns=[\"Car_Size\",\"Year\",\"Total_Sales\"])\n",
        "df.plot(x=\"Car_Size\", y=[\"Total_Sales\", \"Year\"],kind=\"line\", figsize=(10, 10))\n",
        "plt.xlabel(\"Category of Cars\")\n",
        "plt.ylabel(\"Sum of Sales With year\")\n",
        "plt.title(\"SumofSales Over Category\")\n",
        "plt.show()"
      ],
      "metadata": {
        "id": "aLf-irHIfSen",
        "colab": {
          "base_uri": "https://localhost:8080/",
          "height": 621
        },
        "outputId": "9ee519b1-75a4-4c47-973d-64a57bf4a89d"
      },
      "execution_count": null,
      "outputs": [
        {
          "output_type": "display_data",
          "data": {
            "text/plain": [
              "<Figure size 720x720 with 1 Axes>"
            ],
            "image/png": "[encoded data removed]"
          },
          "metadata": {
            "needs_background": "light"
          }
        }
      ]
    },
    {
      "cell_type": "code",
      "source": [
        "gbm = data.groupby('Year')[[\"Total_Sales\"]].sum().sort_values(by = 'Year', ascending = False)\n",
        "print(gbm)\n",
        "#data.plot(x=\"Car_Size\", y=gbm,kind=\"bar\", figsize=(10, 10))\n",
        "gbm[:].plot( data['Model']=='Land Rover Defender',data[\"Total_Sales\"],kind='line',color = [\"red\"],figsize= (12,5), marker='o')       \n",
        "\n",
        "plt.title('Range Rover all Models Sale', fontsize=17)\n",
        "plt.xlabel('Year', fontsize=17)\n",
        "plt.ylabel('Total Car Sales', fontsize=17)\n",
        "plt.grid(True)\n",
        "plt.show()"
      ],
      "metadata": {
        "id": "DNH8tNZqvWss",
        "colab": {
          "base_uri": "https://localhost:8080/",
          "height": 502
        },
        "outputId": "20a61290-dab8-46ac-982f-397134f9baf5"
      },
      "execution_count": null,
      "outputs": [
        {
          "output_type": "stream",
          "name": "stdout",
          "text": [
            "      Total_Sales\n",
            "Year             \n",
            "2021       136104\n",
            "2020       341736\n",
            "2019       390825\n"
          ]
        },
        {
          "output_type": "stream",
          "name": "stderr",
          "text": [
            "/usr/local/lib/python3.7/dist-packages/pandas/plotting/_core.py:937: UserWarning: Boolean Series key will be reindexed to match DataFrame index.\n",
            "  elif not isinstance(data[x], ABCSeries):\n"
          ]
        },
        {
          "output_type": "error",
          "ename": "IndexingError",
          "evalue": "ignored",
          "traceback": [
            "\u001b[0;31m---------------------------------------------------------------------------\u001b[0m",
            "\u001b[0;31mIndexingError\u001b[0m                             Traceback (most recent call last)",
            "\u001b[0;32m<ipython-input-44-b403c9038546>\u001b[0m in \u001b[0;36m<module>\u001b[0;34m()\u001b[0m\n\u001b[1;32m      2\u001b[0m \u001b[0mprint\u001b[0m\u001b[0;34m(\u001b[0m\u001b[0mgbm\u001b[0m\u001b[0;34m)\u001b[0m\u001b[0;34m\u001b[0m\u001b[0;34m\u001b[0m\u001b[0m\n\u001b[1;32m      3\u001b[0m \u001b[0;31m#data.plot(x=\"Car_Size\", y=gbm,kind=\"bar\", figsize=(10, 10))\u001b[0m\u001b[0;34m\u001b[0m\u001b[0;34m\u001b[0m\u001b[0;34m\u001b[0m\u001b[0m\n\u001b[0;32m----> 4\u001b[0;31m \u001b[0mgbm\u001b[0m\u001b[0;34m[\u001b[0m\u001b[0;34m:\u001b[0m\u001b[0;34m]\u001b[0m\u001b[0;34m.\u001b[0m\u001b[0mplot\u001b[0m\u001b[0;34m(\u001b[0m \u001b[0mdata\u001b[0m\u001b[0;34m[\u001b[0m\u001b[0;34m'Model'\u001b[0m\u001b[0;34m]\u001b[0m\u001b[0;34m==\u001b[0m\u001b[0;34m'Land Rover Defender'\u001b[0m\u001b[0;34m,\u001b[0m\u001b[0mdata\u001b[0m\u001b[0;34m[\u001b[0m\u001b[0;34m\"Total_Sales\"\u001b[0m\u001b[0;34m]\u001b[0m\u001b[0;34m,\u001b[0m\u001b[0mkind\u001b[0m\u001b[0;34m=\u001b[0m\u001b[0;34m'line'\u001b[0m\u001b[0;34m,\u001b[0m\u001b[0mcolor\u001b[0m \u001b[0;34m=\u001b[0m \u001b[0;34m[\u001b[0m\u001b[0;34m\"red\"\u001b[0m\u001b[0;34m]\u001b[0m\u001b[0;34m,\u001b[0m\u001b[0mfigsize\u001b[0m\u001b[0;34m=\u001b[0m \u001b[0;34m(\u001b[0m\u001b[0;36m12\u001b[0m\u001b[0;34m,\u001b[0m\u001b[0;36m5\u001b[0m\u001b[0;34m)\u001b[0m\u001b[0;34m,\u001b[0m \u001b[0mmarker\u001b[0m\u001b[0;34m=\u001b[0m\u001b[0;34m'o'\u001b[0m\u001b[0;34m)\u001b[0m\u001b[0;34m\u001b[0m\u001b[0;34m\u001b[0m\u001b[0m\n\u001b[0m\u001b[1;32m      5\u001b[0m \u001b[0;34m\u001b[0m\u001b[0m\n\u001b[1;32m      6\u001b[0m \u001b[0mplt\u001b[0m\u001b[0;34m.\u001b[0m\u001b[0mtitle\u001b[0m\u001b[0;34m(\u001b[0m\u001b[0;34m'Range Rover all Models Sale'\u001b[0m\u001b[0;34m,\u001b[0m \u001b[0mfontsize\u001b[0m\u001b[0;34m=\u001b[0m\u001b[0;36m17\u001b[0m\u001b[0;34m)\u001b[0m\u001b[0;34m\u001b[0m\u001b[0;34m\u001b[0m\u001b[0m\n",
            "\u001b[0;32m/usr/local/lib/python3.7/dist-packages/pandas/plotting/_core.py\u001b[0m in \u001b[0;36m__call__\u001b[0;34m(self, *args, **kwargs)\u001b[0m\n\u001b[1;32m    935\u001b[0m                 \u001b[0;32mif\u001b[0m \u001b[0mis_integer\u001b[0m\u001b[0;34m(\u001b[0m\u001b[0mx\u001b[0m\u001b[0;34m)\u001b[0m \u001b[0;32mand\u001b[0m \u001b[0;32mnot\u001b[0m \u001b[0mdata\u001b[0m\u001b[0;34m.\u001b[0m\u001b[0mcolumns\u001b[0m\u001b[0;34m.\u001b[0m\u001b[0mholds_integer\u001b[0m\u001b[0;34m(\u001b[0m\u001b[0;34m)\u001b[0m\u001b[0;34m:\u001b[0m\u001b[0;34m\u001b[0m\u001b[0;34m\u001b[0m\u001b[0m\n\u001b[1;32m    936\u001b[0m                     \u001b[0mx\u001b[0m \u001b[0;34m=\u001b[0m \u001b[0mdata_cols\u001b[0m\u001b[0;34m[\u001b[0m\u001b[0mx\u001b[0m\u001b[0;34m]\u001b[0m\u001b[0;34m\u001b[0m\u001b[0;34m\u001b[0m\u001b[0m\n\u001b[0;32m--> 937\u001b[0;31m                 \u001b[0;32melif\u001b[0m \u001b[0;32mnot\u001b[0m \u001b[0misinstance\u001b[0m\u001b[0;34m(\u001b[0m\u001b[0mdata\u001b[0m\u001b[0;34m[\u001b[0m\u001b[0mx\u001b[0m\u001b[0;34m]\u001b[0m\u001b[0;34m,\u001b[0m \u001b[0mABCSeries\u001b[0m\u001b[0;34m)\u001b[0m\u001b[0;34m:\u001b[0m\u001b[0;34m\u001b[0m\u001b[0;34m\u001b[0m\u001b[0m\n\u001b[0m\u001b[1;32m    938\u001b[0m                     \u001b[0;32mraise\u001b[0m \u001b[0mValueError\u001b[0m\u001b[0;34m(\u001b[0m\u001b[0;34m\"x must be a label or position\"\u001b[0m\u001b[0;34m)\u001b[0m\u001b[0;34m\u001b[0m\u001b[0;34m\u001b[0m\u001b[0m\n\u001b[1;32m    939\u001b[0m                 \u001b[0mdata\u001b[0m \u001b[0;34m=\u001b[0m \u001b[0mdata\u001b[0m\u001b[0;34m.\u001b[0m\u001b[0mset_index\u001b[0m\u001b[0;34m(\u001b[0m\u001b[0mx\u001b[0m\u001b[0;34m)\u001b[0m\u001b[0;34m\u001b[0m\u001b[0;34m\u001b[0m\u001b[0m\n",
            "\u001b[0;32m/usr/local/lib/python3.7/dist-packages/pandas/core/frame.py\u001b[0m in \u001b[0;36m__getitem__\u001b[0;34m(self, key)\u001b[0m\n\u001b[1;32m   3447\u001b[0m         \u001b[0;31m# Do we have a (boolean) 1d indexer?\u001b[0m\u001b[0;34m\u001b[0m\u001b[0;34m\u001b[0m\u001b[0;34m\u001b[0m\u001b[0m\n\u001b[1;32m   3448\u001b[0m         \u001b[0;32mif\u001b[0m \u001b[0mcom\u001b[0m\u001b[0;34m.\u001b[0m\u001b[0mis_bool_indexer\u001b[0m\u001b[0;34m(\u001b[0m\u001b[0mkey\u001b[0m\u001b[0;34m)\u001b[0m\u001b[0;34m:\u001b[0m\u001b[0;34m\u001b[0m\u001b[0;34m\u001b[0m\u001b[0m\n\u001b[0;32m-> 3449\u001b[0;31m             \u001b[0;32mreturn\u001b[0m \u001b[0mself\u001b[0m\u001b[0;34m.\u001b[0m\u001b[0m_getitem_bool_array\u001b[0m\u001b[0;34m(\u001b[0m\u001b[0mkey\u001b[0m\u001b[0;34m)\u001b[0m\u001b[0;34m\u001b[0m\u001b[0;34m\u001b[0m\u001b[0m\n\u001b[0m\u001b[1;32m   3450\u001b[0m \u001b[0;34m\u001b[0m\u001b[0m\n\u001b[1;32m   3451\u001b[0m         \u001b[0;31m# We are left with two options: a single key, and a collection of keys,\u001b[0m\u001b[0;34m\u001b[0m\u001b[0;34m\u001b[0m\u001b[0;34m\u001b[0m\u001b[0m\n",
            "\u001b[0;32m/usr/local/lib/python3.7/dist-packages/pandas/core/frame.py\u001b[0m in \u001b[0;36m_getitem_bool_array\u001b[0;34m(self, key)\u001b[0m\n\u001b[1;32m   3500\u001b[0m         \u001b[0;31m# check_bool_indexer will throw exception if Series key cannot\u001b[0m\u001b[0;34m\u001b[0m\u001b[0;34m\u001b[0m\u001b[0;34m\u001b[0m\u001b[0m\n\u001b[1;32m   3501\u001b[0m         \u001b[0;31m# be reindexed to match DataFrame rows\u001b[0m\u001b[0;34m\u001b[0m\u001b[0;34m\u001b[0m\u001b[0;34m\u001b[0m\u001b[0m\n\u001b[0;32m-> 3502\u001b[0;31m         \u001b[0mkey\u001b[0m \u001b[0;34m=\u001b[0m \u001b[0mcheck_bool_indexer\u001b[0m\u001b[0;34m(\u001b[0m\u001b[0mself\u001b[0m\u001b[0;34m.\u001b[0m\u001b[0mindex\u001b[0m\u001b[0;34m,\u001b[0m \u001b[0mkey\u001b[0m\u001b[0;34m)\u001b[0m\u001b[0;34m\u001b[0m\u001b[0;34m\u001b[0m\u001b[0m\n\u001b[0m\u001b[1;32m   3503\u001b[0m         \u001b[0mindexer\u001b[0m \u001b[0;34m=\u001b[0m \u001b[0mkey\u001b[0m\u001b[0;34m.\u001b[0m\u001b[0mnonzero\u001b[0m\u001b[0;34m(\u001b[0m\u001b[0;34m)\u001b[0m\u001b[0;34m[\u001b[0m\u001b[0;36m0\u001b[0m\u001b[0;34m]\u001b[0m\u001b[0;34m\u001b[0m\u001b[0;34m\u001b[0m\u001b[0m\n\u001b[1;32m   3504\u001b[0m         \u001b[0;32mreturn\u001b[0m \u001b[0mself\u001b[0m\u001b[0;34m.\u001b[0m\u001b[0m_take_with_is_copy\u001b[0m\u001b[0;34m(\u001b[0m\u001b[0mindexer\u001b[0m\u001b[0;34m,\u001b[0m \u001b[0maxis\u001b[0m\u001b[0;34m=\u001b[0m\u001b[0;36m0\u001b[0m\u001b[0;34m)\u001b[0m\u001b[0;34m\u001b[0m\u001b[0;34m\u001b[0m\u001b[0m\n",
            "\u001b[0;32m/usr/local/lib/python3.7/dist-packages/pandas/core/indexing.py\u001b[0m in \u001b[0;36mcheck_bool_indexer\u001b[0;34m(index, key)\u001b[0m\n\u001b[1;32m   2387\u001b[0m         \u001b[0;32mif\u001b[0m \u001b[0mmask\u001b[0m\u001b[0;34m.\u001b[0m\u001b[0many\u001b[0m\u001b[0;34m(\u001b[0m\u001b[0;34m)\u001b[0m\u001b[0;34m:\u001b[0m\u001b[0;34m\u001b[0m\u001b[0;34m\u001b[0m\u001b[0m\n\u001b[1;32m   2388\u001b[0m             raise IndexingError(\n\u001b[0;32m-> 2389\u001b[0;31m                 \u001b[0;34m\"Unalignable boolean Series provided as \"\u001b[0m\u001b[0;34m\u001b[0m\u001b[0;34m\u001b[0m\u001b[0m\n\u001b[0m\u001b[1;32m   2390\u001b[0m                 \u001b[0;34m\"indexer (index of the boolean Series and of \"\u001b[0m\u001b[0;34m\u001b[0m\u001b[0;34m\u001b[0m\u001b[0m\n\u001b[1;32m   2391\u001b[0m                 \u001b[0;34m\"the indexed object do not match).\"\u001b[0m\u001b[0;34m\u001b[0m\u001b[0;34m\u001b[0m\u001b[0m\n",
            "\u001b[0;31mIndexingError\u001b[0m: Unalignable boolean Series provided as indexer (index of the boolean Series and of the indexed object do not match)."
          ]
        }
      ]
    },
    {
      "cell_type": "code",
      "source": [
        "import os\n",
        "import numpy as np\n",
        "import matplotlib.pyplot as plt\n",
        "gbm = data.groupby('Year')[[\"Total_Sales\"]].sum().sort_values(by = 'Year', ascending = False)\n",
        "print(gbm)\n",
        "x = data.groupby('Year')['Year']\n",
        "y = gbm['Total_Sales']\n",
        "plt.Line2D(x,y)\n",
        "fig, ax = plt.subplots()\n",
        "width = 0.75\n",
        "ind = np.arange(len(y))\n",
        " \n",
        "ax.barh(ind, y, width, color = \"green\")\n",
        " \n",
        "for i, v in enumerate(y):\n",
        "    ax.text(v + 3, i + .25, str(v),\n",
        "            color = 'blue', fontweight = 'bold')\n",
        "    plt.title('Range Rover all Models Sale', fontsize=17)\n",
        "plt.xlabel('Year', fontsize=17)\n",
        "plt.ylabel('Total Car Sales', fontsize=17)\n",
        "plt.show()"
      ],
      "metadata": {
        "id": "O1cb1o1J2Brc",
        "colab": {
          "base_uri": "https://localhost:8080/",
          "height": 394
        },
        "outputId": "9cd852f7-3d2c-4bf1-ee28-e13cc4bdfbe1"
      },
      "execution_count": null,
      "outputs": [
        {
          "output_type": "stream",
          "name": "stdout",
          "text": [
            "      Total_Sales\n",
            "Year             \n",
            "2021       136104\n",
            "2020       341736\n",
            "2019       390825\n"
          ]
        },
        {
          "output_type": "display_data",
          "data": {
            "text/plain": [
              "<Figure size 432x288 with 1 Axes>"
            ],
            "image/png": "[encoded data removed]"
          },
          "metadata": {
            "needs_background": "light"
          }
        }
      ]
    },
    {
      "cell_type": "code",
      "source": [
        ""
      ],
      "metadata": {
        "id": "khEmzm562D09"
      },
      "execution_count": null,
      "outputs": []
    },
    {
      "cell_type": "code",
      "source": [
        ""
      ],
      "metadata": {
        "id": "iRhoCYdx2HX1"
      },
      "execution_count": null,
      "outputs": []
    },
    {
      "cell_type": "code",
      "source": [
        "land_rover_sales"
      ],
      "metadata": {
        "colab": {
          "base_uri": "https://localhost:8080/",
          "height": 645
        },
        "id": "rFB1guVUYl9_",
        "outputId": "3e309986-b798-4e89-d2f9-28df6ae490b3"
      },
      "execution_count": null,
      "outputs": [
        {
          "output_type": "execute_result",
          "data": {
            "text/plain": [
              "                             Model  Jan  Feb  Mar  Apr  May  Jun  Jul  Aug  \\\n",
              "10             Land Rover Defender  216  216  243  129  124  129    0    0   \n",
              "11      Land Rover Discovery / LR4   13   13   15   21   20   21    0    0   \n",
              "12    Land Rover Range Rover Sport  263  263  296  282  271  282    0    0   \n",
              "13    Land Rover Range Rover Velar  105  105  118  149  143  149    0    0   \n",
              "33             Land Rover Defender    0    0    0    2    4    5  112  100   \n",
              "34      Land Rover Discovery / LR4   35   46   28   12   27   29   33   30   \n",
              "35    Land Rover Range Rover Sport  237  307  186   84  186  195  168  149   \n",
              "36    Land Rover Range Rover Velar  152  197  119   46  103  108  109   97   \n",
              "56      Land Rover Discovery Sport   54   70  140  148   45   78   76   60   \n",
              "57   Land Rover Range Rover Evoque   53   55  179   61  198  199  117  179   \n",
              "75      Land Rover Discovery Sport   90   90  101   41   39   41    0    0   \n",
              "76   Land Rover Range Rover Evoque  124  124  139   75   72   75    0    0   \n",
              "96      Land Rover Discovery Sport   84  109   66   29   64   68   83   73   \n",
              "97   Land Rover Range Rover Evoque  137  177  107   58  128  134  117  104   \n",
              "117     Land Rover Discovery Sport   54   70  140  148   45   78   76   60   \n",
              "118  Land Rover Range Rover Evoque   53   55  179   61  198  199  117  179   \n",
              "129         Land Rover Range Rover  140  140  157  114  110  114    0    0   \n",
              "138         Land Rover Range Rover   88  114   69   49  108  114   93   83   \n",
              "147         Land Rover Range Rover  111  101  259  198  141  119   79  126   \n",
              "\n",
              "     Sep  Oct  Nov  Dec  Total_Sales Car_Size  Year  \n",
              "10     0    0    0    0         1057      MLS  2021  \n",
              "11     0    0    0    0          103      MLS  2021  \n",
              "12     0    0    0    0         1657      MLS  2021  \n",
              "13     0    0    0    0          769      MLS  2021  \n",
              "33   108  168  138  192          829      MLS  2020  \n",
              "34    32   18   14   20          324      MLS  2020  \n",
              "35   161  236  194  270         2373      MLS  2020  \n",
              "36   105  102   84  117         1339      MLS  2020  \n",
              "56   133   97   92   83         1076      MLS  2019  \n",
              "57   120  172  226  229         1788      MLS  2019  \n",
              "75     0    0    0    0          402      SLS  2021  \n",
              "76     0    0    0    0          609      SLS  2021  \n",
              "96    79   68   56   77          856      SLS  2020  \n",
              "97   113  113   93  129         1410      SLS  2020  \n",
              "117  133   97   92   83         1076      SLS  2019  \n",
              "118  120  172  226  229         1788      SLS  2019  \n",
              "129    0    0    0    0          775      LLS  2021  \n",
              "138   90  116   96  133         1153      LLS  2020  \n",
              "147  158  159  108  173         1732      LLS  2019  "
            ],
            "text/html": [
              "\n",
              "  <div id=\"df-e7a26e0b-4b91-4fdc-b028-9c4d4aa8beb3\">\n",
              "    <div class=\"colab-df-container\">\n",
              "      <div>\n",
              "<style scoped>\n",
              "    .dataframe tbody tr th:only-of-type {\n",
              "        vertical-align: middle;\n",
              "    }\n",
              "\n",
              "    .dataframe tbody tr th {\n",
              "        vertical-align: top;\n",
              "    }\n",
              "\n",
              "    .dataframe thead th {\n",
              "        text-align: right;\n",
              "    }\n",
              "</style>\n",
              "<table border=\"1\" class=\"dataframe\">\n",
              "  <thead>\n",
              "    <tr style=\"text-align: right;\">\n",
              "      <th></th>\n",
              "      <th>Model</th>\n",
              "      <th>Jan</th>\n",
              "      <th>Feb</th>\n",
              "      <th>Mar</th>\n",
              "      <th>Apr</th>\n",
              "      <th>May</th>\n",
              "      <th>Jun</th>\n",
              "      <th>Jul</th>\n",
              "      <th>Aug</th>\n",
              "      <th>Sep</th>\n",
              "      <th>Oct</th>\n",
              "      <th>Nov</th>\n",
              "      <th>Dec</th>\n",
              "      <th>Total_Sales</th>\n",
              "      <th>Car_Size</th>\n",
              "      <th>Year</th>\n",
              "    </tr>\n",
              "  </thead>\n",
              "  <tbody>\n",
              "    <tr>\n",
              "      <th>10</th>\n",
              "      <td>Land Rover Defender</td>\n",
              "      <td>216</td>\n",
              "      <td>216</td>\n",
              "      <td>243</td>\n",
              "      <td>129</td>\n",
              "      <td>124</td>\n",
              "      <td>129</td>\n",
              "      <td>0</td>\n",
              "      <td>0</td>\n",
              "      <td>0</td>\n",
              "      <td>0</td>\n",
              "      <td>0</td>\n",
              "      <td>0</td>\n",
              "      <td>1057</td>\n",
              "      <td>MLS</td>\n",
              "      <td>2021</td>\n",
              "    </tr>\n",
              "    <tr>\n",
              "      <th>11</th>\n",
              "      <td>Land Rover Discovery / LR4</td>\n",
              "      <td>13</td>\n",
              "      <td>13</td>\n",
              "      <td>15</td>\n",
              "      <td>21</td>\n",
              "      <td>20</td>\n",
              "      <td>21</td>\n",
              "      <td>0</td>\n",
              "      <td>0</td>\n",
              "      <td>0</td>\n",
              "      <td>0</td>\n",
              "      <td>0</td>\n",
              "      <td>0</td>\n",
              "      <td>103</td>\n",
              "      <td>MLS</td>\n",
              "      <td>2021</td>\n",
              "    </tr>\n",
              "    <tr>\n",
              "      <th>12</th>\n",
              "      <td>Land Rover Range Rover Sport</td>\n",
              "      <td>263</td>\n",
              "      <td>263</td>\n",
              "      <td>296</td>\n",
              "      <td>282</td>\n",
              "      <td>271</td>\n",
              "      <td>282</td>\n",
              "      <td>0</td>\n",
              "      <td>0</td>\n",
              "      <td>0</td>\n",
              "      <td>0</td>\n",
              "      <td>0</td>\n",
              "      <td>0</td>\n",
              "      <td>1657</td>\n",
              "      <td>MLS</td>\n",
              "      <td>2021</td>\n",
              "    </tr>\n",
              "    <tr>\n",
              "      <th>13</th>\n",
              "      <td>Land Rover Range Rover Velar</td>\n",
              "      <td>105</td>\n",
              "      <td>105</td>\n",
              "      <td>118</td>\n",
              "      <td>149</td>\n",
              "      <td>143</td>\n",
              "      <td>149</td>\n",
              "      <td>0</td>\n",
              "      <td>0</td>\n",
              "      <td>0</td>\n",
              "      <td>0</td>\n",
              "      <td>0</td>\n",
              "      <td>0</td>\n",
              "      <td>769</td>\n",
              "      <td>MLS</td>\n",
              "      <td>2021</td>\n",
              "    </tr>\n",
              "    <tr>\n",
              "      <th>33</th>\n",
              "      <td>Land Rover Defender</td>\n",
              "      <td>0</td>\n",
              "      <td>0</td>\n",
              "      <td>0</td>\n",
              "      <td>2</td>\n",
              "      <td>4</td>\n",
              "      <td>5</td>\n",
              "      <td>112</td>\n",
              "      <td>100</td>\n",
              "      <td>108</td>\n",
              "      <td>168</td>\n",
              "      <td>138</td>\n",
              "      <td>192</td>\n",
              "      <td>829</td>\n",
              "      <td>MLS</td>\n",
              "      <td>2020</td>\n",
              "    </tr>\n",
              "    <tr>\n",
              "      <th>34</th>\n",
              "      <td>Land Rover Discovery / LR4</td>\n",
              "      <td>35</td>\n",
              "      <td>46</td>\n",
              "      <td>28</td>\n",
              "      <td>12</td>\n",
              "      <td>27</td>\n",
              "      <td>29</td>\n",
              "      <td>33</td>\n",
              "      <td>30</td>\n",
              "      <td>32</td>\n",
              "      <td>18</td>\n",
              "      <td>14</td>\n",
              "      <td>20</td>\n",
              "      <td>324</td>\n",
              "      <td>MLS</td>\n",
              "      <td>2020</td>\n",
              "    </tr>\n",
              "    <tr>\n",
              "      <th>35</th>\n",
              "      <td>Land Rover Range Rover Sport</td>\n",
              "      <td>237</td>\n",
              "      <td>307</td>\n",
              "      <td>186</td>\n",
              "      <td>84</td>\n",
              "      <td>186</td>\n",
              "      <td>195</td>\n",
              "      <td>168</td>\n",
              "      <td>149</td>\n",
              "      <td>161</td>\n",
              "      <td>236</td>\n",
              "      <td>194</td>\n",
              "      <td>270</td>\n",
              "      <td>2373</td>\n",
              "      <td>MLS</td>\n",
              "      <td>2020</td>\n",
              "    </tr>\n",
              "    <tr>\n",
              "      <th>36</th>\n",
              "      <td>Land Rover Range Rover Velar</td>\n",
              "      <td>152</td>\n",
              "      <td>197</td>\n",
              "      <td>119</td>\n",
              "      <td>46</td>\n",
              "      <td>103</td>\n",
              "      <td>108</td>\n",
              "      <td>109</td>\n",
              "      <td>97</td>\n",
              "      <td>105</td>\n",
              "      <td>102</td>\n",
              "      <td>84</td>\n",
              "      <td>117</td>\n",
              "      <td>1339</td>\n",
              "      <td>MLS</td>\n",
              "      <td>2020</td>\n",
              "    </tr>\n",
              "    <tr>\n",
              "      <th>56</th>\n",
              "      <td>Land Rover Discovery Sport</td>\n",
              "      <td>54</td>\n",
              "      <td>70</td>\n",
              "      <td>140</td>\n",
              "      <td>148</td>\n",
              "      <td>45</td>\n",
              "      <td>78</td>\n",
              "      <td>76</td>\n",
              "      <td>60</td>\n",
              "      <td>133</td>\n",
              "      <td>97</td>\n",
              "      <td>92</td>\n",
              "      <td>83</td>\n",
              "      <td>1076</td>\n",
              "      <td>MLS</td>\n",
              "      <td>2019</td>\n",
              "    </tr>\n",
              "    <tr>\n",
              "      <th>57</th>\n",
              "      <td>Land Rover Range Rover Evoque</td>\n",
              "      <td>53</td>\n",
              "      <td>55</td>\n",
              "      <td>179</td>\n",
              "      <td>61</td>\n",
              "      <td>198</td>\n",
              "      <td>199</td>\n",
              "      <td>117</td>\n",
              "      <td>179</td>\n",
              "      <td>120</td>\n",
              "      <td>172</td>\n",
              "      <td>226</td>\n",
              "      <td>229</td>\n",
              "      <td>1788</td>\n",
              "      <td>MLS</td>\n",
              "      <td>2019</td>\n",
              "    </tr>\n",
              "    <tr>\n",
              "      <th>75</th>\n",
              "      <td>Land Rover Discovery Sport</td>\n",
              "      <td>90</td>\n",
              "      <td>90</td>\n",
              "      <td>101</td>\n",
              "      <td>41</td>\n",
              "      <td>39</td>\n",
              "      <td>41</td>\n",
              "      <td>0</td>\n",
              "      <td>0</td>\n",
              "      <td>0</td>\n",
              "      <td>0</td>\n",
              "      <td>0</td>\n",
              "      <td>0</td>\n",
              "      <td>402</td>\n",
              "      <td>SLS</td>\n",
              "      <td>2021</td>\n",
              "    </tr>\n",
              "    <tr>\n",
              "      <th>76</th>\n",
              "      <td>Land Rover Range Rover Evoque</td>\n",
              "      <td>124</td>\n",
              "      <td>124</td>\n",
              "      <td>139</td>\n",
              "      <td>75</td>\n",
              "      <td>72</td>\n",
              "      <td>75</td>\n",
              "      <td>0</td>\n",
              "      <td>0</td>\n",
              "      <td>0</td>\n",
              "      <td>0</td>\n",
              "      <td>0</td>\n",
              "      <td>0</td>\n",
              "      <td>609</td>\n",
              "      <td>SLS</td>\n",
              "      <td>2021</td>\n",
              "    </tr>\n",
              "    <tr>\n",
              "      <th>96</th>\n",
              "      <td>Land Rover Discovery Sport</td>\n",
              "      <td>84</td>\n",
              "      <td>109</td>\n",
              "      <td>66</td>\n",
              "      <td>29</td>\n",
              "      <td>64</td>\n",
              "      <td>68</td>\n",
              "      <td>83</td>\n",
              "      <td>73</td>\n",
              "      <td>79</td>\n",
              "      <td>68</td>\n",
              "      <td>56</td>\n",
              "      <td>77</td>\n",
              "      <td>856</td>\n",
              "      <td>SLS</td>\n",
              "      <td>2020</td>\n",
              "    </tr>\n",
              "    <tr>\n",
              "      <th>97</th>\n",
              "      <td>Land Rover Range Rover Evoque</td>\n",
              "      <td>137</td>\n",
              "      <td>177</td>\n",
              "      <td>107</td>\n",
              "      <td>58</td>\n",
              "      <td>128</td>\n",
              "      <td>134</td>\n",
              "      <td>117</td>\n",
              "      <td>104</td>\n",
              "      <td>113</td>\n",
              "      <td>113</td>\n",
              "      <td>93</td>\n",
              "      <td>129</td>\n",
              "      <td>1410</td>\n",
              "      <td>SLS</td>\n",
              "      <td>2020</td>\n",
              "    </tr>\n",
              "    <tr>\n",
              "      <th>117</th>\n",
              "      <td>Land Rover Discovery Sport</td>\n",
              "      <td>54</td>\n",
              "      <td>70</td>\n",
              "      <td>140</td>\n",
              "      <td>148</td>\n",
              "      <td>45</td>\n",
              "      <td>78</td>\n",
              "      <td>76</td>\n",
              "      <td>60</td>\n",
              "      <td>133</td>\n",
              "      <td>97</td>\n",
              "      <td>92</td>\n",
              "      <td>83</td>\n",
              "      <td>1076</td>\n",
              "      <td>SLS</td>\n",
              "      <td>2019</td>\n",
              "    </tr>\n",
              "    <tr>\n",
              "      <th>118</th>\n",
              "      <td>Land Rover Range Rover Evoque</td>\n",
              "      <td>53</td>\n",
              "      <td>55</td>\n",
              "      <td>179</td>\n",
              "      <td>61</td>\n",
              "      <td>198</td>\n",
              "      <td>199</td>\n",
              "      <td>117</td>\n",
              "      <td>179</td>\n",
              "      <td>120</td>\n",
              "      <td>172</td>\n",
              "      <td>226</td>\n",
              "      <td>229</td>\n",
              "      <td>1788</td>\n",
              "      <td>SLS</td>\n",
              "      <td>2019</td>\n",
              "    </tr>\n",
              "    <tr>\n",
              "      <th>129</th>\n",
              "      <td>Land Rover Range Rover</td>\n",
              "      <td>140</td>\n",
              "      <td>140</td>\n",
              "      <td>157</td>\n",
              "      <td>114</td>\n",
              "      <td>110</td>\n",
              "      <td>114</td>\n",
              "      <td>0</td>\n",
              "      <td>0</td>\n",
              "      <td>0</td>\n",
              "      <td>0</td>\n",
              "      <td>0</td>\n",
              "      <td>0</td>\n",
              "      <td>775</td>\n",
              "      <td>LLS</td>\n",
              "      <td>2021</td>\n",
              "    </tr>\n",
              "    <tr>\n",
              "      <th>138</th>\n",
              "      <td>Land Rover Range Rover</td>\n",
              "      <td>88</td>\n",
              "      <td>114</td>\n",
              "      <td>69</td>\n",
              "      <td>49</td>\n",
              "      <td>108</td>\n",
              "      <td>114</td>\n",
              "      <td>93</td>\n",
              "      <td>83</td>\n",
              "      <td>90</td>\n",
              "      <td>116</td>\n",
              "      <td>96</td>\n",
              "      <td>133</td>\n",
              "      <td>1153</td>\n",
              "      <td>LLS</td>\n",
              "      <td>2020</td>\n",
              "    </tr>\n",
              "    <tr>\n",
              "      <th>147</th>\n",
              "      <td>Land Rover Range Rover</td>\n",
              "      <td>111</td>\n",
              "      <td>101</td>\n",
              "      <td>259</td>\n",
              "      <td>198</td>\n",
              "      <td>141</td>\n",
              "      <td>119</td>\n",
              "      <td>79</td>\n",
              "      <td>126</td>\n",
              "      <td>158</td>\n",
              "      <td>159</td>\n",
              "      <td>108</td>\n",
              "      <td>173</td>\n",
              "      <td>1732</td>\n",
              "      <td>LLS</td>\n",
              "      <td>2019</td>\n",
              "    </tr>\n",
              "  </tbody>\n",
              "</table>\n",
              "</div>\n",
              "      <button class=\"colab-df-convert\" onclick=\"convertToInteractive('df-e7a26e0b-4b91-4fdc-b028-9c4d4aa8beb3')\"\n",
              "              title=\"Convert this dataframe to an interactive table.\"\n",
              "              style=\"display:none;\">\n",
              "        \n",
              "  <svg xmlns=\"http://www.w3.org/2000/svg\" height=\"24px\"viewBox=\"0 0 24 24\"\n",
              "       width=\"24px\">\n",
              "    <path d=\"M0 0h24v24H0V0z\" fill=\"none\"/>\n",
              "    <path d=\"M18.56 5.44l.94 2.06.94-2.06 2.06-.94-2.06-.94-.94-2.06-.94 2.06-2.06.94zm-11 1L8.5 8.5l.94-2.06 2.06-.94-2.06-.94L8.5 2.5l-.94 2.06-2.06.94zm10 10l.94 2.06.94-2.06 2.06-.94-2.06-.94-.94-2.06-.94 2.06-2.06.94z\"/><path d=\"M17.41 7.96l-1.37-1.37c-.4-.4-.92-.59-1.43-.59-.52 0-1.04.2-1.43.59L10.3 9.45l-7.72 7.72c-.78.78-.78 2.05 0 2.83L4 21.41c.39.39.9.59 1.41.59.51 0 1.02-.2 1.41-.59l7.78-7.78 2.81-2.81c.8-.78.8-2.07 0-2.86zM5.41 20L4 18.59l7.72-7.72 1.47 1.35L5.41 20z\"/>\n",
              "  </svg>\n",
              "      </button>\n",
              "      \n",
              "  <style>\n",
              "    .colab-df-container {\n",
              "      display:flex;\n",
              "      flex-wrap:wrap;\n",
              "      gap: 12px;\n",
              "    }\n",
              "\n",
              "    .colab-df-convert {\n",
              "      background-color: #E8F0FE;\n",
              "      border: none;\n",
              "      border-radius: 50%;\n",
              "      cursor: pointer;\n",
              "      display: none;\n",
              "      fill: #1967D2;\n",
              "      height: 32px;\n",
              "      padding: 0 0 0 0;\n",
              "      width: 32px;\n",
              "    }\n",
              "\n",
              "    .colab-df-convert:hover {\n",
              "      background-color: #E2EBFA;\n",
              "      box-shadow: 0px 1px 2px rgba(60, 64, 67, 0.3), 0px 1px 3px 1px rgba(60, 64, 67, 0.15);\n",
              "      fill: #174EA6;\n",
              "    }\n",
              "\n",
              "    [theme=dark] .colab-df-convert {\n",
              "      background-color: #3B4455;\n",
              "      fill: #D2E3FC;\n",
              "    }\n",
              "\n",
              "    [theme=dark] .colab-df-convert:hover {\n",
              "      background-color: #434B5C;\n",
              "      box-shadow: 0px 1px 3px 1px rgba(0, 0, 0, 0.15);\n",
              "      filter: drop-shadow(0px 1px 2px rgba(0, 0, 0, 0.3));\n",
              "      fill: #FFFFFF;\n",
              "    }\n",
              "  </style>\n",
              "\n",
              "      <script>\n",
              "        const buttonEl =\n",
              "          document.querySelector('#df-e7a26e0b-4b91-4fdc-b028-9c4d4aa8beb3 button.colab-df-convert');\n",
              "        buttonEl.style.display =\n",
              "          google.colab.kernel.accessAllowed ? 'block' : 'none';\n",
              "\n",
              "        async function convertToInteractive(key) {\n",
              "          const element = document.querySelector('#df-e7a26e0b-4b91-4fdc-b028-9c4d4aa8beb3');\n",
              "          const dataTable =\n",
              "            await google.colab.kernel.invokeFunction('convertToInteractive',\n",
              "                                                     [key], {});\n",
              "          if (!dataTable) return;\n",
              "\n",
              "          const docLinkHtml = 'Like what you see? Visit the ' +\n",
              "            '<a target=\"_blank\" href=https://colab.research.google.com/notebooks/data_table.ipynb>data table notebook</a>'\n",
              "            + ' to learn more about interactive tables.';\n",
              "          element.innerHTML = '';\n",
              "          dataTable['output_type'] = 'display_data';\n",
              "          await google.colab.output.renderOutput(dataTable, element);\n",
              "          const docLink = document.createElement('div');\n",
              "          docLink.innerHTML = docLinkHtml;\n",
              "          element.appendChild(docLink);\n",
              "        }\n",
              "      </script>\n",
              "    </div>\n",
              "  </div>\n",
              "  "
            ]
          },
          "metadata": {},
          "execution_count": 21
        }
      ]
    },
    {
      "cell_type": "markdown",
      "source": [
        "## MatplotLib Library"
      ],
      "metadata": {
        "id": "HYvDYSWHaQgT"
      }
    },
    {
      "cell_type": "code",
      "source": [
        "x = land_rover_sales['Year']\n",
        "\n",
        "y = land_rover_sales['Total_Sales']\n",
        "plt.bar(x, y, color ='blue', width=0.5)\n",
        "plt.title('Total Land Rover sales by Year',fontsize=17)\n",
        "plt.xlabel('Year',fontsize=17)\n",
        "plt.ylabel('Total Car Sales', fontsize=17)\n",
        "plt.show()\n",
        "\n"
      ],
      "metadata": {
        "colab": {
          "base_uri": "https://localhost:8080/",
          "height": 307
        },
        "id": "EwpsvokIYl5C",
        "outputId": "60abce92-6357-4bbb-c495-a145e43467c0"
      },
      "execution_count": null,
      "outputs": [
        {
          "output_type": "display_data",
          "data": {
            "text/plain": [
              "<Figure size 432x288 with 1 Axes>"
            ],
            "image/png": "[encoded data removed]"
          },
          "metadata": {
            "needs_background": "light"
          }
        }
      ]
    },
    {
      "cell_type": "code",
      "source": [
        "\n"
      ],
      "metadata": {
        "id": "UfJfIqzYYlua"
      },
      "execution_count": null,
      "outputs": []
    },
    {
      "cell_type": "markdown",
      "source": [
        "## Seaborn Library"
      ],
      "metadata": {
        "id": "j8hJFVFIZ7Rj"
      }
    },
    {
      "cell_type": "code",
      "source": [
        "\n",
        "sns.barplot(data=land_rover_sales,x='Year',y='Total_Sales',ci=None)\n",
        "plt.title('Land Rover all Models Sale', fontsize=17)\n",
        "plt.xlabel('Year', fontsize=17)\n",
        "plt.ylabel('Total Car Sales', fontsize=17)\n",
        "plt.show()"
      ],
      "metadata": {
        "id": "KuFYa6mNaYbw",
        "outputId": "471a04a0-d871-4a35-caf4-dbdf72da7f49",
        "colab": {
          "base_uri": "https://localhost:8080/",
          "height": 307
        }
      },
      "execution_count": null,
      "outputs": [
        {
          "output_type": "display_data",
          "data": {
            "text/plain": [
              "<Figure size 432x288 with 1 Axes>"
            ],
            "image/png": "[encoded data removed]"
          },
          "metadata": {
            "needs_background": "light"
          }
        }
      ]
    },
    {
      "cell_type": "code",
      "source": [
        "sns.barplot(data=land_rover_sales,x='Year',y='Total_Sales',hue='Car_Size',ci=None)\n",
        "sns.set_palette('Set1')\n",
        "plt.title('Land Rover all Models Sale', fontsize=17)\n",
        "plt.xlabel('Year', fontsize=17)\n",
        "plt.ylabel('Total Car Sales', fontsize=17)\n",
        "sns.despine()\n",
        "plt.show()"
      ],
      "metadata": {
        "colab": {
          "base_uri": "https://localhost:8080/",
          "height": 307
        },
        "id": "M7Avestscoj-",
        "outputId": "f411473f-815a-4092-ce8a-e586627fe92f"
      },
      "execution_count": null,
      "outputs": [
        {
          "output_type": "display_data",
          "data": {
            "text/plain": [
              "<Figure size 432x288 with 1 Axes>"
            ],
            "image/png": "[encoded data removed]"
          },
          "metadata": {
            "needs_background": "light"
          }
        }
      ]
    },
    {
      "cell_type": "markdown",
      "source": [
        "## Plotly Library"
      ],
      "metadata": {
        "id": "fi5rhEHLaZcJ"
      }
    },
    {
      "cell_type": "code",
      "source": [
        "#Assinging all months to a varible\n",
        "month = land_rover_sales[['Jan','Feb', 'Mar', 'Apr', 'May', 'Jun', 'Jul', 'Aug', 'Sep', 'Oct', 'Nov', 'Dec']]"
      ],
      "metadata": {
        "id": "SlPrAmH7svVD"
      },
      "execution_count": null,
      "outputs": []
    },
    {
      "cell_type": "code",
      "source": [
        "import plotly.express as px\n",
        "\n",
        "#land_rover_sales = px.data.gapminder().query('[month]')\n",
        "fig = px.bar(land_rover_sales, x='Model', y = 'Total_Sales', title = 'Range Rover / Land Rover Models',\n",
        "             color='Year', hover_data = month)\n",
        "fig.show()"
      ],
      "metadata": {
        "id": "vRK19anRacoD",
        "colab": {
          "base_uri": "https://localhost:8080/",
          "height": 562
        },
        "outputId": "e5fac76f-d3f0-461c-e4fd-f83132c10f7d"
      },
      "execution_count": null,
      "outputs": [
        {
          "output_type": "display_data",
          "data": {
            "text/html": [
              "<html>\n",
              "<head><meta charset=\"utf-8\" /></head>\n",
              "<body>\n",
              "    <div>            <script src=\"https://cdnjs.cloudflare.com/ajax/libs/mathjax/2.7.5/MathJax.js?config=TeX-AMS-MML_SVG\"></script><script type=\"text/javascript\">if (window.MathJax) {MathJax.Hub.Config({SVG: {font: \"STIX-Web\"}});}</script>                <script type=\"text/javascript\">window.PlotlyConfig = {MathJaxConfig: 'local'};</script>\n",
              "        <script src=\"https://cdn.plot.ly/plotly-2.8.3.min.js\"></script>                <div id=\"613433f9-e4bd-4368-8f79-12940aaacd3f\" class=\"plotly-graph-div\" style=\"height:525px; width:100%;\"></div>            <script type=\"text/javascript\">                                    window.PLOTLYENV=window.PLOTLYENV || {};                                    if (document.getElementById(\"613433f9-e4bd-4368-8f79-12940aaacd3f\")) {                    Plotly.newPlot(                        \"613433f9-e4bd-4368-8f79-12940aaacd3f\",                        [{\"alignmentgroup\":\"True\",\"customdata\":[[216,216,243,129,124,129,0,0,0,0,0,0],[13,13,15,21,20,21,0,0,0,0,0,0],[263,263,296,282,271,282,0,0,0,0,0,0],[105,105,118,149,143,149,0,0,0,0,0,0],[0,0,0,2,4,5,112,100,108,168,138,192],[35,46,28,12,27,29,33,30,32,18,14,20],[237,307,186,84,186,195,168,149,161,236,194,270],[152,197,119,46,103,108,109,97,105,102,84,117],[54,70,140,148,45,78,76,60,133,97,92,83],[53,55,179,61,198,199,117,179,120,172,226,229],[90,90,101,41,39,41,0,0,0,0,0,0],[124,124,139,75,72,75,0,0,0,0,0,0],[84,109,66,29,64,68,83,73,79,68,56,77],[137,177,107,58,128,134,117,104,113,113,93,129],[54,70,140,148,45,78,76,60,133,97,92,83],[53,55,179,61,198,199,117,179,120,172,226,229],[140,140,157,114,110,114,0,0,0,0,0,0],[88,114,69,49,108,114,93,83,90,116,96,133],[111,101,259,198,141,119,79,126,158,159,108,173]],\"hovertemplate\":\"Model=%{x}<br>Total_Sales=%{y}<br>Jan=%{customdata[0]}<br>Feb=%{customdata[1]}<br>Mar=%{customdata[2]}<br>Apr=%{customdata[3]}<br>May=%{customdata[4]}<br>Jun=%{customdata[5]}<br>Jul=%{customdata[6]}<br>Aug=%{customdata[7]}<br>Sep=%{customdata[8]}<br>Oct=%{customdata[9]}<br>Nov=%{customdata[10]}<br>Dec=%{customdata[11]}<br>Year=%{marker.color}<extra></extra>\",\"legendgroup\":\"\",\"marker\":{\"color\":[2021,2021,2021,2021,2020,2020,2020,2020,2019,2019,2021,2021,2020,2020,2019,2019,2021,2020,2019],\"coloraxis\":\"coloraxis\",\"pattern\":{\"shape\":\"\"}},\"name\":\"\",\"offsetgroup\":\"\",\"orientation\":\"v\",\"showlegend\":false,\"textposition\":\"auto\",\"x\":[\"Land Rover Defender\",\"Land Rover Discovery / LR4\",\"Land Rover Range Rover Sport\",\"Land Rover Range Rover Velar\",\"Land Rover Defender\",\"Land Rover Discovery / LR4\",\"Land Rover Range Rover Sport\",\"Land Rover Range Rover Velar\",\"Land Rover Discovery Sport\",\"Land Rover Range Rover Evoque\",\"Land Rover Discovery Sport\",\"Land Rover Range Rover Evoque\",\"Land Rover Discovery Sport\",\"Land Rover Range Rover Evoque\",\"Land Rover Discovery Sport\",\"Land Rover Range Rover Evoque\",\"Land Rover Range Rover\",\"Land Rover Range Rover\",\"Land Rover Range Rover\"],\"xaxis\":\"x\",\"y\":[1057,103,1657,769,829,324,2373,1339,1076,1788,402,609,856,1410,1076,1788,775,1153,1732],\"yaxis\":\"y\",\"type\":\"bar\"}],                        {\"template\":{\"data\":{\"bar\":[{\"error_x\":{\"color\":\"#2a3f5f\"},\"error_y\":{\"color\":\"#2a3f5f\"},\"marker\":{\"line\":{\"color\":\"#E5ECF6\",\"width\":0.5},\"pattern\":{\"fillmode\":\"overlay\",\"size\":10,\"solidity\":0.2}},\"type\":\"bar\"}],\"barpolar\":[{\"marker\":{\"line\":{\"color\":\"#E5ECF6\",\"width\":0.5},\"pattern\":{\"fillmode\":\"overlay\",\"size\":10,\"solidity\":0.2}},\"type\":\"barpolar\"}],\"carpet\":[{\"aaxis\":{\"endlinecolor\":\"#2a3f5f\",\"gridcolor\":\"white\",\"linecolor\":\"white\",\"minorgridcolor\":\"white\",\"startlinecolor\":\"#2a3f5f\"},\"baxis\":{\"endlinecolor\":\"#2a3f5f\",\"gridcolor\":\"white\",\"linecolor\":\"white\",\"minorgridcolor\":\"white\",\"startlinecolor\":\"#2a3f5f\"},\"type\":\"carpet\"}],\"choropleth\":[{\"colorbar\":{\"outlinewidth\":0,\"ticks\":\"\"},\"type\":\"choropleth\"}],\"contour\":[{\"colorbar\":{\"outlinewidth\":0,\"ticks\":\"\"},\"colorscale\":[[0.0,\"#0d0887\"],[0.1111111111111111,\"#46039f\"],[0.2222222222222222,\"#7201a8\"],[0.3333333333333333,\"#9c179e\"],[0.4444444444444444,\"#bd3786\"],[0.5555555555555556,\"#d8576b\"],[0.6666666666666666,\"#ed7953\"],[0.7777777777777778,\"#fb9f3a\"],[0.8888888888888888,\"#fdca26\"],[1.0,\"#f0f921\"]],\"type\":\"contour\"}],\"contourcarpet\":[{\"colorbar\":{\"outlinewidth\":0,\"ticks\":\"\"},\"type\":\"contourcarpet\"}],\"heatmap\":[{\"colorbar\":{\"outlinewidth\":0,\"ticks\":\"\"},\"colorscale\":[[0.0,\"#0d0887\"],[0.1111111111111111,\"#46039f\"],[0.2222222222222222,\"#7201a8\"],[0.3333333333333333,\"#9c179e\"],[0.4444444444444444,\"#bd3786\"],[0.5555555555555556,\"#d8576b\"],[0.6666666666666666,\"#ed7953\"],[0.7777777777777778,\"#fb9f3a\"],[0.8888888888888888,\"#fdca26\"],[1.0,\"#f0f921\"]],\"type\":\"heatmap\"}],\"heatmapgl\":[{\"colorbar\":{\"outlinewidth\":0,\"ticks\":\"\"},\"colorscale\":[[0.0,\"#0d0887\"],[0.1111111111111111,\"#46039f\"],[0.2222222222222222,\"#7201a8\"],[0.3333333333333333,\"#9c179e\"],[0.4444444444444444,\"#bd3786\"],[0.5555555555555556,\"#d8576b\"],[0.6666666666666666,\"#ed7953\"],[0.7777777777777778,\"#fb9f3a\"],[0.8888888888888888,\"#fdca26\"],[1.0,\"#f0f921\"]],\"type\":\"heatmapgl\"}],\"histogram\":[{\"marker\":{\"pattern\":{\"fillmode\":\"overlay\",\"size\":10,\"solidity\":0.2}},\"type\":\"histogram\"}],\"histogram2d\":[{\"colorbar\":{\"outlinewidth\":0,\"ticks\":\"\"},\"colorscale\":[[0.0,\"#0d0887\"],[0.1111111111111111,\"#46039f\"],[0.2222222222222222,\"#7201a8\"],[0.3333333333333333,\"#9c179e\"],[0.4444444444444444,\"#bd3786\"],[0.5555555555555556,\"#d8576b\"],[0.6666666666666666,\"#ed7953\"],[0.7777777777777778,\"#fb9f3a\"],[0.8888888888888888,\"#fdca26\"],[1.0,\"#f0f921\"]],\"type\":\"histogram2d\"}],\"histogram2dcontour\":[{\"colorbar\":{\"outlinewidth\":0,\"ticks\":\"\"},\"colorscale\":[[0.0,\"#0d0887\"],[0.1111111111111111,\"#46039f\"],[0.2222222222222222,\"#7201a8\"],[0.3333333333333333,\"#9c179e\"],[0.4444444444444444,\"#bd3786\"],[0.5555555555555556,\"#d8576b\"],[0.6666666666666666,\"#ed7953\"],[0.7777777777777778,\"#fb9f3a\"],[0.8888888888888888,\"#fdca26\"],[1.0,\"#f0f921\"]],\"type\":\"histogram2dcontour\"}],\"mesh3d\":[{\"colorbar\":{\"outlinewidth\":0,\"ticks\":\"\"},\"type\":\"mesh3d\"}],\"parcoords\":[{\"line\":{\"colorbar\":{\"outlinewidth\":0,\"ticks\":\"\"}},\"type\":\"parcoords\"}],\"pie\":[{\"automargin\":true,\"type\":\"pie\"}],\"scatter\":[{\"marker\":{\"colorbar\":{\"outlinewidth\":0,\"ticks\":\"\"}},\"type\":\"scatter\"}],\"scatter3d\":[{\"line\":{\"colorbar\":{\"outlinewidth\":0,\"ticks\":\"\"}},\"marker\":{\"colorbar\":{\"outlinewidth\":0,\"ticks\":\"\"}},\"type\":\"scatter3d\"}],\"scattercarpet\":[{\"marker\":{\"colorbar\":{\"outlinewidth\":0,\"ticks\":\"\"}},\"type\":\"scattercarpet\"}],\"scattergeo\":[{\"marker\":{\"colorbar\":{\"outlinewidth\":0,\"ticks\":\"\"}},\"type\":\"scattergeo\"}],\"scattergl\":[{\"marker\":{\"colorbar\":{\"outlinewidth\":0,\"ticks\":\"\"}},\"type\":\"scattergl\"}],\"scattermapbox\":[{\"marker\":{\"colorbar\":{\"outlinewidth\":0,\"ticks\":\"\"}},\"type\":\"scattermapbox\"}],\"scatterpolar\":[{\"marker\":{\"colorbar\":{\"outlinewidth\":0,\"ticks\":\"\"}},\"type\":\"scatterpolar\"}],\"scatterpolargl\":[{\"marker\":{\"colorbar\":{\"outlinewidth\":0,\"ticks\":\"\"}},\"type\":\"scatterpolargl\"}],\"scatterternary\":[{\"marker\":{\"colorbar\":{\"outlinewidth\":0,\"ticks\":\"\"}},\"type\":\"scatterternary\"}],\"surface\":[{\"colorbar\":{\"outlinewidth\":0,\"ticks\":\"\"},\"colorscale\":[[0.0,\"#0d0887\"],[0.1111111111111111,\"#46039f\"],[0.2222222222222222,\"#7201a8\"],[0.3333333333333333,\"#9c179e\"],[0.4444444444444444,\"#bd3786\"],[0.5555555555555556,\"#d8576b\"],[0.6666666666666666,\"#ed7953\"],[0.7777777777777778,\"#fb9f3a\"],[0.8888888888888888,\"#fdca26\"],[1.0,\"#f0f921\"]],\"type\":\"surface\"}],\"table\":[{\"cells\":{\"fill\":{\"color\":\"#EBF0F8\"},\"line\":{\"color\":\"white\"}},\"header\":{\"fill\":{\"color\":\"#C8D4E3\"},\"line\":{\"color\":\"white\"}},\"type\":\"table\"}]},\"layout\":{\"annotationdefaults\":{\"arrowcolor\":\"#2a3f5f\",\"arrowhead\":0,\"arrowwidth\":1},\"autotypenumbers\":\"strict\",\"coloraxis\":{\"colorbar\":{\"outlinewidth\":0,\"ticks\":\"\"}},\"colorscale\":{\"diverging\":[[0,\"#8e0152\"],[0.1,\"#c51b7d\"],[0.2,\"#de77ae\"],[0.3,\"#f1b6da\"],[0.4,\"#fde0ef\"],[0.5,\"#f7f7f7\"],[0.6,\"#e6f5d0\"],[0.7,\"#b8e186\"],[0.8,\"#7fbc41\"],[0.9,\"#4d9221\"],[1,\"#276419\"]],\"sequential\":[[0.0,\"#0d0887\"],[0.1111111111111111,\"#46039f\"],[0.2222222222222222,\"#7201a8\"],[0.3333333333333333,\"#9c179e\"],[0.4444444444444444,\"#bd3786\"],[0.5555555555555556,\"#d8576b\"],[0.6666666666666666,\"#ed7953\"],[0.7777777777777778,\"#fb9f3a\"],[0.8888888888888888,\"#fdca26\"],[1.0,\"#f0f921\"]],\"sequentialminus\":[[0.0,\"#0d0887\"],[0.1111111111111111,\"#46039f\"],[0.2222222222222222,\"#7201a8\"],[0.3333333333333333,\"#9c179e\"],[0.4444444444444444,\"#bd3786\"],[0.5555555555555556,\"#d8576b\"],[0.6666666666666666,\"#ed7953\"],[0.7777777777777778,\"#fb9f3a\"],[0.8888888888888888,\"#fdca26\"],[1.0,\"#f0f921\"]]},\"colorway\":[\"#636efa\",\"#EF553B\",\"#00cc96\",\"#ab63fa\",\"#FFA15A\",\"#19d3f3\",\"#FF6692\",\"#B6E880\",\"#FF97FF\",\"#FECB52\"],\"font\":{\"color\":\"#2a3f5f\"},\"geo\":{\"bgcolor\":\"white\",\"lakecolor\":\"white\",\"landcolor\":\"#E5ECF6\",\"showlakes\":true,\"showland\":true,\"subunitcolor\":\"white\"},\"hoverlabel\":{\"align\":\"left\"},\"hovermode\":\"closest\",\"mapbox\":{\"style\":\"light\"},\"paper_bgcolor\":\"white\",\"plot_bgcolor\":\"#E5ECF6\",\"polar\":{\"angularaxis\":{\"gridcolor\":\"white\",\"linecolor\":\"white\",\"ticks\":\"\"},\"bgcolor\":\"#E5ECF6\",\"radialaxis\":{\"gridcolor\":\"white\",\"linecolor\":\"white\",\"ticks\":\"\"}},\"scene\":{\"xaxis\":{\"backgroundcolor\":\"#E5ECF6\",\"gridcolor\":\"white\",\"gridwidth\":2,\"linecolor\":\"white\",\"showbackground\":true,\"ticks\":\"\",\"zerolinecolor\":\"white\"},\"yaxis\":{\"backgroundcolor\":\"#E5ECF6\",\"gridcolor\":\"white\",\"gridwidth\":2,\"linecolor\":\"white\",\"showbackground\":true,\"ticks\":\"\",\"zerolinecolor\":\"white\"},\"zaxis\":{\"backgroundcolor\":\"#E5ECF6\",\"gridcolor\":\"white\",\"gridwidth\":2,\"linecolor\":\"white\",\"showbackground\":true,\"ticks\":\"\",\"zerolinecolor\":\"white\"}},\"shapedefaults\":{\"line\":{\"color\":\"#2a3f5f\"}},\"ternary\":{\"aaxis\":{\"gridcolor\":\"white\",\"linecolor\":\"white\",\"ticks\":\"\"},\"baxis\":{\"gridcolor\":\"white\",\"linecolor\":\"white\",\"ticks\":\"\"},\"bgcolor\":\"#E5ECF6\",\"caxis\":{\"gridcolor\":\"white\",\"linecolor\":\"white\",\"ticks\":\"\"}},\"title\":{\"x\":0.05},\"xaxis\":{\"automargin\":true,\"gridcolor\":\"white\",\"linecolor\":\"white\",\"ticks\":\"\",\"title\":{\"standoff\":15},\"zerolinecolor\":\"white\",\"zerolinewidth\":2},\"yaxis\":{\"automargin\":true,\"gridcolor\":\"white\",\"linecolor\":\"white\",\"ticks\":\"\",\"title\":{\"standoff\":15},\"zerolinecolor\":\"white\",\"zerolinewidth\":2}}},\"xaxis\":{\"anchor\":\"y\",\"domain\":[0.0,1.0],\"title\":{\"text\":\"Model\"}},\"yaxis\":{\"anchor\":\"x\",\"domain\":[0.0,1.0],\"title\":{\"text\":\"Total_Sales\"}},\"coloraxis\":{\"colorbar\":{\"title\":{\"text\":\"Year\"}},\"colorscale\":[[0.0,\"#0d0887\"],[0.1111111111111111,\"#46039f\"],[0.2222222222222222,\"#7201a8\"],[0.3333333333333333,\"#9c179e\"],[0.4444444444444444,\"#bd3786\"],[0.5555555555555556,\"#d8576b\"],[0.6666666666666666,\"#ed7953\"],[0.7777777777777778,\"#fb9f3a\"],[0.8888888888888888,\"#fdca26\"],[1.0,\"#f0f921\"]]},\"legend\":{\"tracegroupgap\":0},\"title\":{\"text\":\"Range Rover / Land Rover Models\"},\"barmode\":\"relative\"},                        {\"responsive\": true}                    ).then(function(){\n",
              "                            \n",
              "var gd = document.getElementById('613433f9-e4bd-4368-8f79-12940aaacd3f');\n",
              "var x = new MutationObserver(function (mutations, observer) {{\n",
              "        var display = window.getComputedStyle(gd).display;\n",
              "        if (!display || display === 'none') {{\n",
              "            console.log([gd, 'removed!']);\n",
              "            Plotly.purge(gd);\n",
              "            observer.disconnect();\n",
              "        }}\n",
              "}});\n",
              "\n",
              "// Listen for the removal of the full notebook cells\n",
              "var notebookContainer = gd.closest('#notebook-container');\n",
              "if (notebookContainer) {{\n",
              "    x.observe(notebookContainer, {childList: true});\n",
              "}}\n",
              "\n",
              "// Listen for the clearing of the current output cell\n",
              "var outputEl = gd.closest('.output');\n",
              "if (outputEl) {{\n",
              "    x.observe(outputEl, {childList: true});\n",
              "}}\n",
              "\n",
              "                        })                };                            </script>        </div>\n",
              "</body>\n",
              "</html>"
            ]
          },
          "metadata": {}
        }
      ]
    },
    {
      "cell_type": "markdown",
      "source": [
        ""
      ],
      "metadata": {
        "id": "Q6l1-fz-g4Ox"
      }
    },
    {
      "cell_type": "code",
      "source": [
        ""
      ],
      "metadata": {
        "id": "9TJ0LzDXbhL8"
      },
      "execution_count": null,
      "outputs": []
    }
  ]
}