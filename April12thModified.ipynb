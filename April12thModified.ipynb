{
  "nbformat": 4,
  "nbformat_minor": 0,
  "metadata": {
    "colab": {
      "name": "April12th.ipynb",
      "provenance": [],
      "collapsed_sections": [],
      "include_colab_link": true
    },
    "kernelspec": {
      "name": "python3",
      "display_name": "Python 3"
    },
    "language_info": {
      "name": "python"
    }
  },
  "cells": [
    {
      "cell_type": "markdown",
      "metadata": {
        "id": "view-in-github",
        "colab_type": "text"
      },
      "source": [
        "<a href=\"https://colab.research.google.com/github/PriyaMurali/Exploratory-Data-Analysis/blob/master/April12thModified.ipynb\" target=\"_parent\"><img src=\"https://colab.research.google.com/assets/colab-badge.svg\" alt=\"Open In Colab\"/></a>"
      ]
    },
    {
      "cell_type": "markdown",
      "source": [
        ""
      ],
      "metadata": {
        "id": "z7jPYnVHFBra"
      }
    },
    {
      "cell_type": "code",
      "source": [
        "import pandas as pd"
      ],
      "metadata": {
        "id": "fTh0JPK4FCHo"
      },
      "execution_count": null,
      "outputs": []
    },
    {
      "cell_type": "code",
      "source": [
        "path =\"/content/adult.csv\"\n",
        "df = pd.read_csv(path)\n",
        "df.head()"
      ],
      "metadata": {
        "id": "p1IdqaewE2MM",
        "colab": {
          "base_uri": "https://localhost:8080/",
          "height": 248
        },
        "outputId": "d954ebaf-5243-4571-b1b7-7d1830eb0939"
      },
      "execution_count": null,
      "outputs": [
        {
          "output_type": "execute_result",
          "data": {
            "text/plain": [
              "   39          State-gov   77516   Bachelors   13        Never-married  \\\n",
              "0  50   Self-emp-not-inc   83311   Bachelors   13   Married-civ-spouse   \n",
              "1  38            Private  215646     HS-grad    9             Divorced   \n",
              "2  53            Private  234721        11th    7   Married-civ-spouse   \n",
              "3  28            Private  338409   Bachelors   13   Married-civ-spouse   \n",
              "4  37            Private  284582     Masters   14   Married-civ-spouse   \n",
              "\n",
              "         Adm-clerical   Not-in-family   White     Male   2174   0   40  \\\n",
              "0     Exec-managerial         Husband   White     Male      0   0   13   \n",
              "1   Handlers-cleaners   Not-in-family   White     Male      0   0   40   \n",
              "2   Handlers-cleaners         Husband   Black     Male      0   0   40   \n",
              "3      Prof-specialty            Wife   Black   Female      0   0   40   \n",
              "4     Exec-managerial            Wife   White   Female      0   0   40   \n",
              "\n",
              "    United-States   <=50K  \n",
              "0   United-States   <=50K  \n",
              "1   United-States   <=50K  \n",
              "2   United-States   <=50K  \n",
              "3            Cuba   <=50K  \n",
              "4   United-States   <=50K  "
            ],
            "text/html": [
              "\n",
              "  <div id=\"df-e0beefa9-34ea-47b9-aed8-e536ac05f474\">\n",
              "    <div class=\"colab-df-container\">\n",
              "      <div>\n",
              "<style scoped>\n",
              "    .dataframe tbody tr th:only-of-type {\n",
              "        vertical-align: middle;\n",
              "    }\n",
              "\n",
              "    .dataframe tbody tr th {\n",
              "        vertical-align: top;\n",
              "    }\n",
              "\n",
              "    .dataframe thead th {\n",
              "        text-align: right;\n",
              "    }\n",
              "</style>\n",
              "<table border=\"1\" class=\"dataframe\">\n",
              "  <thead>\n",
              "    <tr style=\"text-align: right;\">\n",
              "      <th></th>\n",
              "      <th>39</th>\n",
              "      <th>State-gov</th>\n",
              "      <th>77516</th>\n",
              "      <th>Bachelors</th>\n",
              "      <th>13</th>\n",
              "      <th>Never-married</th>\n",
              "      <th>Adm-clerical</th>\n",
              "      <th>Not-in-family</th>\n",
              "      <th>White</th>\n",
              "      <th>Male</th>\n",
              "      <th>2174</th>\n",
              "      <th>0</th>\n",
              "      <th>40</th>\n",
              "      <th>United-States</th>\n",
              "      <th>&lt;=50K</th>\n",
              "    </tr>\n",
              "  </thead>\n",
              "  <tbody>\n",
              "    <tr>\n",
              "      <th>0</th>\n",
              "      <td>50</td>\n",
              "      <td>Self-emp-not-inc</td>\n",
              "      <td>83311</td>\n",
              "      <td>Bachelors</td>\n",
              "      <td>13</td>\n",
              "      <td>Married-civ-spouse</td>\n",
              "      <td>Exec-managerial</td>\n",
              "      <td>Husband</td>\n",
              "      <td>White</td>\n",
              "      <td>Male</td>\n",
              "      <td>0</td>\n",
              "      <td>0</td>\n",
              "      <td>13</td>\n",
              "      <td>United-States</td>\n",
              "      <td>&lt;=50K</td>\n",
              "    </tr>\n",
              "    <tr>\n",
              "      <th>1</th>\n",
              "      <td>38</td>\n",
              "      <td>Private</td>\n",
              "      <td>215646</td>\n",
              "      <td>HS-grad</td>\n",
              "      <td>9</td>\n",
              "      <td>Divorced</td>\n",
              "      <td>Handlers-cleaners</td>\n",
              "      <td>Not-in-family</td>\n",
              "      <td>White</td>\n",
              "      <td>Male</td>\n",
              "      <td>0</td>\n",
              "      <td>0</td>\n",
              "      <td>40</td>\n",
              "      <td>United-States</td>\n",
              "      <td>&lt;=50K</td>\n",
              "    </tr>\n",
              "    <tr>\n",
              "      <th>2</th>\n",
              "      <td>53</td>\n",
              "      <td>Private</td>\n",
              "      <td>234721</td>\n",
              "      <td>11th</td>\n",
              "      <td>7</td>\n",
              "      <td>Married-civ-spouse</td>\n",
              "      <td>Handlers-cleaners</td>\n",
              "      <td>Husband</td>\n",
              "      <td>Black</td>\n",
              "      <td>Male</td>\n",
              "      <td>0</td>\n",
              "      <td>0</td>\n",
              "      <td>40</td>\n",
              "      <td>United-States</td>\n",
              "      <td>&lt;=50K</td>\n",
              "    </tr>\n",
              "    <tr>\n",
              "      <th>3</th>\n",
              "      <td>28</td>\n",
              "      <td>Private</td>\n",
              "      <td>338409</td>\n",
              "      <td>Bachelors</td>\n",
              "      <td>13</td>\n",
              "      <td>Married-civ-spouse</td>\n",
              "      <td>Prof-specialty</td>\n",
              "      <td>Wife</td>\n",
              "      <td>Black</td>\n",
              "      <td>Female</td>\n",
              "      <td>0</td>\n",
              "      <td>0</td>\n",
              "      <td>40</td>\n",
              "      <td>Cuba</td>\n",
              "      <td>&lt;=50K</td>\n",
              "    </tr>\n",
              "    <tr>\n",
              "      <th>4</th>\n",
              "      <td>37</td>\n",
              "      <td>Private</td>\n",
              "      <td>284582</td>\n",
              "      <td>Masters</td>\n",
              "      <td>14</td>\n",
              "      <td>Married-civ-spouse</td>\n",
              "      <td>Exec-managerial</td>\n",
              "      <td>Wife</td>\n",
              "      <td>White</td>\n",
              "      <td>Female</td>\n",
              "      <td>0</td>\n",
              "      <td>0</td>\n",
              "      <td>40</td>\n",
              "      <td>United-States</td>\n",
              "      <td>&lt;=50K</td>\n",
              "    </tr>\n",
              "  </tbody>\n",
              "</table>\n",
              "</div>\n",
              "      <button class=\"colab-df-convert\" onclick=\"convertToInteractive('df-e0beefa9-34ea-47b9-aed8-e536ac05f474')\"\n",
              "              title=\"Convert this dataframe to an interactive table.\"\n",
              "              style=\"display:none;\">\n",
              "        \n",
              "  <svg xmlns=\"http://www.w3.org/2000/svg\" height=\"24px\"viewBox=\"0 0 24 24\"\n",
              "       width=\"24px\">\n",
              "    <path d=\"M0 0h24v24H0V0z\" fill=\"none\"/>\n",
              "    <path d=\"M18.56 5.44l.94 2.06.94-2.06 2.06-.94-2.06-.94-.94-2.06-.94 2.06-2.06.94zm-11 1L8.5 8.5l.94-2.06 2.06-.94-2.06-.94L8.5 2.5l-.94 2.06-2.06.94zm10 10l.94 2.06.94-2.06 2.06-.94-2.06-.94-.94-2.06-.94 2.06-2.06.94z\"/><path d=\"M17.41 7.96l-1.37-1.37c-.4-.4-.92-.59-1.43-.59-.52 0-1.04.2-1.43.59L10.3 9.45l-7.72 7.72c-.78.78-.78 2.05 0 2.83L4 21.41c.39.39.9.59 1.41.59.51 0 1.02-.2 1.41-.59l7.78-7.78 2.81-2.81c.8-.78.8-2.07 0-2.86zM5.41 20L4 18.59l7.72-7.72 1.47 1.35L5.41 20z\"/>\n",
              "  </svg>\n",
              "      </button>\n",
              "      \n",
              "  <style>\n",
              "    .colab-df-container {\n",
              "      display:flex;\n",
              "      flex-wrap:wrap;\n",
              "      gap: 12px;\n",
              "    }\n",
              "\n",
              "    .colab-df-convert {\n",
              "      background-color: #E8F0FE;\n",
              "      border: none;\n",
              "      border-radius: 50%;\n",
              "      cursor: pointer;\n",
              "      display: none;\n",
              "      fill: #1967D2;\n",
              "      height: 32px;\n",
              "      padding: 0 0 0 0;\n",
              "      width: 32px;\n",
              "    }\n",
              "\n",
              "    .colab-df-convert:hover {\n",
              "      background-color: #E2EBFA;\n",
              "      box-shadow: 0px 1px 2px rgba(60, 64, 67, 0.3), 0px 1px 3px 1px rgba(60, 64, 67, 0.15);\n",
              "      fill: #174EA6;\n",
              "    }\n",
              "\n",
              "    [theme=dark] .colab-df-convert {\n",
              "      background-color: #3B4455;\n",
              "      fill: #D2E3FC;\n",
              "    }\n",
              "\n",
              "    [theme=dark] .colab-df-convert:hover {\n",
              "      background-color: #434B5C;\n",
              "      box-shadow: 0px 1px 3px 1px rgba(0, 0, 0, 0.15);\n",
              "      filter: drop-shadow(0px 1px 2px rgba(0, 0, 0, 0.3));\n",
              "      fill: #FFFFFF;\n",
              "    }\n",
              "  </style>\n",
              "\n",
              "      <script>\n",
              "        const buttonEl =\n",
              "          document.querySelector('#df-e0beefa9-34ea-47b9-aed8-e536ac05f474 button.colab-df-convert');\n",
              "        buttonEl.style.display =\n",
              "          google.colab.kernel.accessAllowed ? 'block' : 'none';\n",
              "\n",
              "        async function convertToInteractive(key) {\n",
              "          const element = document.querySelector('#df-e0beefa9-34ea-47b9-aed8-e536ac05f474');\n",
              "          const dataTable =\n",
              "            await google.colab.kernel.invokeFunction('convertToInteractive',\n",
              "                                                     [key], {});\n",
              "          if (!dataTable) return;\n",
              "\n",
              "          const docLinkHtml = 'Like what you see? Visit the ' +\n",
              "            '<a target=\"_blank\" href=https://colab.research.google.com/notebooks/data_table.ipynb>data table notebook</a>'\n",
              "            + ' to learn more about interactive tables.';\n",
              "          element.innerHTML = '';\n",
              "          dataTable['output_type'] = 'display_data';\n",
              "          await google.colab.output.renderOutput(dataTable, element);\n",
              "          const docLink = document.createElement('div');\n",
              "          docLink.innerHTML = docLinkHtml;\n",
              "          element.appendChild(docLink);\n",
              "        }\n",
              "      </script>\n",
              "    </div>\n",
              "  </div>\n",
              "  "
            ]
          },
          "metadata": {},
          "execution_count": 2
        }
      ]
    },
    {
      "cell_type": "markdown",
      "source": [
        "Add relevant headers to the file"
      ],
      "metadata": {
        "id": "SsI3UhGNE1F_"
      }
    },
    {
      "cell_type": "markdown",
      "source": [
        "# New Section"
      ],
      "metadata": {
        "id": "dThcN8Hrs4vN"
      }
    },
    {
      "cell_type": "markdown",
      "source": [
        "# New Section"
      ],
      "metadata": {
        "id": "Cy7FRzdbs5Vu"
      }
    },
    {
      "cell_type": "code",
      "source": [
        "df.columns = [\"Age\",\"Employement\",\"Salary\",\"Education\",\"Education-num\",\"Marital-Status\",\"Profession\",\"Relationship\",\"Race\",\"Sex\",\"Capital-Gain\",\"Capital-Loss\",\"hpw\",\"Country\",\"Salary-Range\"]\n",
        "df.tail()"
      ],
      "metadata": {
        "id": "88fNczFxGO1B",
        "colab": {
          "base_uri": "https://localhost:8080/",
          "height": 370
        },
        "outputId": "0ed059ee-5c6a-4cf2-fa8c-a8be761691f0"
      },
      "execution_count": null,
      "outputs": [
        {
          "output_type": "execute_result",
          "data": {
            "text/plain": [
              "       Age    Employement  Salary    Education  Education-num  \\\n",
              "32555   27        Private  257302   Assoc-acdm             12   \n",
              "32556   40        Private  154374      HS-grad              9   \n",
              "32557   58        Private  151910      HS-grad              9   \n",
              "32558   22        Private  201490      HS-grad              9   \n",
              "32559   52   Self-emp-inc  287927      HS-grad              9   \n",
              "\n",
              "            Marital-Status          Profession Relationship    Race      Sex  \\\n",
              "32555   Married-civ-spouse        Tech-support         Wife   White   Female   \n",
              "32556   Married-civ-spouse   Machine-op-inspct      Husband   White     Male   \n",
              "32557              Widowed        Adm-clerical    Unmarried   White   Female   \n",
              "32558        Never-married        Adm-clerical    Own-child   White     Male   \n",
              "32559   Married-civ-spouse     Exec-managerial         Wife   White   Female   \n",
              "\n",
              "       Capital-Gain  Capital-Loss  hpw         Country Salary-Range  \n",
              "32555             0             0   38   United-States        <=50K  \n",
              "32556             0             0   40   United-States         >50K  \n",
              "32557             0             0   40   United-States        <=50K  \n",
              "32558             0             0   20   United-States        <=50K  \n",
              "32559         15024             0   40   United-States         >50K  "
            ],
            "text/html": [
              "\n",
              "  <div id=\"df-26d1b41f-47ad-41cf-9353-102a735d433b\">\n",
              "    <div class=\"colab-df-container\">\n",
              "      <div>\n",
              "<style scoped>\n",
              "    .dataframe tbody tr th:only-of-type {\n",
              "        vertical-align: middle;\n",
              "    }\n",
              "\n",
              "    .dataframe tbody tr th {\n",
              "        vertical-align: top;\n",
              "    }\n",
              "\n",
              "    .dataframe thead th {\n",
              "        text-align: right;\n",
              "    }\n",
              "</style>\n",
              "<table border=\"1\" class=\"dataframe\">\n",
              "  <thead>\n",
              "    <tr style=\"text-align: right;\">\n",
              "      <th></th>\n",
              "      <th>Age</th>\n",
              "      <th>Employement</th>\n",
              "      <th>Salary</th>\n",
              "      <th>Education</th>\n",
              "      <th>Education-num</th>\n",
              "      <th>Marital-Status</th>\n",
              "      <th>Profession</th>\n",
              "      <th>Relationship</th>\n",
              "      <th>Race</th>\n",
              "      <th>Sex</th>\n",
              "      <th>Capital-Gain</th>\n",
              "      <th>Capital-Loss</th>\n",
              "      <th>hpw</th>\n",
              "      <th>Country</th>\n",
              "      <th>Salary-Range</th>\n",
              "    </tr>\n",
              "  </thead>\n",
              "  <tbody>\n",
              "    <tr>\n",
              "      <th>32555</th>\n",
              "      <td>27</td>\n",
              "      <td>Private</td>\n",
              "      <td>257302</td>\n",
              "      <td>Assoc-acdm</td>\n",
              "      <td>12</td>\n",
              "      <td>Married-civ-spouse</td>\n",
              "      <td>Tech-support</td>\n",
              "      <td>Wife</td>\n",
              "      <td>White</td>\n",
              "      <td>Female</td>\n",
              "      <td>0</td>\n",
              "      <td>0</td>\n",
              "      <td>38</td>\n",
              "      <td>United-States</td>\n",
              "      <td>&lt;=50K</td>\n",
              "    </tr>\n",
              "    <tr>\n",
              "      <th>32556</th>\n",
              "      <td>40</td>\n",
              "      <td>Private</td>\n",
              "      <td>154374</td>\n",
              "      <td>HS-grad</td>\n",
              "      <td>9</td>\n",
              "      <td>Married-civ-spouse</td>\n",
              "      <td>Machine-op-inspct</td>\n",
              "      <td>Husband</td>\n",
              "      <td>White</td>\n",
              "      <td>Male</td>\n",
              "      <td>0</td>\n",
              "      <td>0</td>\n",
              "      <td>40</td>\n",
              "      <td>United-States</td>\n",
              "      <td>&gt;50K</td>\n",
              "    </tr>\n",
              "    <tr>\n",
              "      <th>32557</th>\n",
              "      <td>58</td>\n",
              "      <td>Private</td>\n",
              "      <td>151910</td>\n",
              "      <td>HS-grad</td>\n",
              "      <td>9</td>\n",
              "      <td>Widowed</td>\n",
              "      <td>Adm-clerical</td>\n",
              "      <td>Unmarried</td>\n",
              "      <td>White</td>\n",
              "      <td>Female</td>\n",
              "      <td>0</td>\n",
              "      <td>0</td>\n",
              "      <td>40</td>\n",
              "      <td>United-States</td>\n",
              "      <td>&lt;=50K</td>\n",
              "    </tr>\n",
              "    <tr>\n",
              "      <th>32558</th>\n",
              "      <td>22</td>\n",
              "      <td>Private</td>\n",
              "      <td>201490</td>\n",
              "      <td>HS-grad</td>\n",
              "      <td>9</td>\n",
              "      <td>Never-married</td>\n",
              "      <td>Adm-clerical</td>\n",
              "      <td>Own-child</td>\n",
              "      <td>White</td>\n",
              "      <td>Male</td>\n",
              "      <td>0</td>\n",
              "      <td>0</td>\n",
              "      <td>20</td>\n",
              "      <td>United-States</td>\n",
              "      <td>&lt;=50K</td>\n",
              "    </tr>\n",
              "    <tr>\n",
              "      <th>32559</th>\n",
              "      <td>52</td>\n",
              "      <td>Self-emp-inc</td>\n",
              "      <td>287927</td>\n",
              "      <td>HS-grad</td>\n",
              "      <td>9</td>\n",
              "      <td>Married-civ-spouse</td>\n",
              "      <td>Exec-managerial</td>\n",
              "      <td>Wife</td>\n",
              "      <td>White</td>\n",
              "      <td>Female</td>\n",
              "      <td>15024</td>\n",
              "      <td>0</td>\n",
              "      <td>40</td>\n",
              "      <td>United-States</td>\n",
              "      <td>&gt;50K</td>\n",
              "    </tr>\n",
              "  </tbody>\n",
              "</table>\n",
              "</div>\n",
              "      <button class=\"colab-df-convert\" onclick=\"convertToInteractive('df-26d1b41f-47ad-41cf-9353-102a735d433b')\"\n",
              "              title=\"Convert this dataframe to an interactive table.\"\n",
              "              style=\"display:none;\">\n",
              "        \n",
              "  <svg xmlns=\"http://www.w3.org/2000/svg\" height=\"24px\"viewBox=\"0 0 24 24\"\n",
              "       width=\"24px\">\n",
              "    <path d=\"M0 0h24v24H0V0z\" fill=\"none\"/>\n",
              "    <path d=\"M18.56 5.44l.94 2.06.94-2.06 2.06-.94-2.06-.94-.94-2.06-.94 2.06-2.06.94zm-11 1L8.5 8.5l.94-2.06 2.06-.94-2.06-.94L8.5 2.5l-.94 2.06-2.06.94zm10 10l.94 2.06.94-2.06 2.06-.94-2.06-.94-.94-2.06-.94 2.06-2.06.94z\"/><path d=\"M17.41 7.96l-1.37-1.37c-.4-.4-.92-.59-1.43-.59-.52 0-1.04.2-1.43.59L10.3 9.45l-7.72 7.72c-.78.78-.78 2.05 0 2.83L4 21.41c.39.39.9.59 1.41.59.51 0 1.02-.2 1.41-.59l7.78-7.78 2.81-2.81c.8-.78.8-2.07 0-2.86zM5.41 20L4 18.59l7.72-7.72 1.47 1.35L5.41 20z\"/>\n",
              "  </svg>\n",
              "      </button>\n",
              "      \n",
              "  <style>\n",
              "    .colab-df-container {\n",
              "      display:flex;\n",
              "      flex-wrap:wrap;\n",
              "      gap: 12px;\n",
              "    }\n",
              "\n",
              "    .colab-df-convert {\n",
              "      background-color: #E8F0FE;\n",
              "      border: none;\n",
              "      border-radius: 50%;\n",
              "      cursor: pointer;\n",
              "      display: none;\n",
              "      fill: #1967D2;\n",
              "      height: 32px;\n",
              "      padding: 0 0 0 0;\n",
              "      width: 32px;\n",
              "    }\n",
              "\n",
              "    .colab-df-convert:hover {\n",
              "      background-color: #E2EBFA;\n",
              "      box-shadow: 0px 1px 2px rgba(60, 64, 67, 0.3), 0px 1px 3px 1px rgba(60, 64, 67, 0.15);\n",
              "      fill: #174EA6;\n",
              "    }\n",
              "\n",
              "    [theme=dark] .colab-df-convert {\n",
              "      background-color: #3B4455;\n",
              "      fill: #D2E3FC;\n",
              "    }\n",
              "\n",
              "    [theme=dark] .colab-df-convert:hover {\n",
              "      background-color: #434B5C;\n",
              "      box-shadow: 0px 1px 3px 1px rgba(0, 0, 0, 0.15);\n",
              "      filter: drop-shadow(0px 1px 2px rgba(0, 0, 0, 0.3));\n",
              "      fill: #FFFFFF;\n",
              "    }\n",
              "  </style>\n",
              "\n",
              "      <script>\n",
              "        const buttonEl =\n",
              "          document.querySelector('#df-26d1b41f-47ad-41cf-9353-102a735d433b button.colab-df-convert');\n",
              "        buttonEl.style.display =\n",
              "          google.colab.kernel.accessAllowed ? 'block' : 'none';\n",
              "\n",
              "        async function convertToInteractive(key) {\n",
              "          const element = document.querySelector('#df-26d1b41f-47ad-41cf-9353-102a735d433b');\n",
              "          const dataTable =\n",
              "            await google.colab.kernel.invokeFunction('convertToInteractive',\n",
              "                                                     [key], {});\n",
              "          if (!dataTable) return;\n",
              "\n",
              "          const docLinkHtml = 'Like what you see? Visit the ' +\n",
              "            '<a target=\"_blank\" href=https://colab.research.google.com/notebooks/data_table.ipynb>data table notebook</a>'\n",
              "            + ' to learn more about interactive tables.';\n",
              "          element.innerHTML = '';\n",
              "          dataTable['output_type'] = 'display_data';\n",
              "          await google.colab.output.renderOutput(dataTable, element);\n",
              "          const docLink = document.createElement('div');\n",
              "          docLink.innerHTML = docLinkHtml;\n",
              "          element.appendChild(docLink);\n",
              "        }\n",
              "      </script>\n",
              "    </div>\n",
              "  </div>\n",
              "  "
            ]
          },
          "metadata": {},
          "execution_count": 3
        }
      ]
    },
    {
      "cell_type": "code",
      "source": [
        "#Male & Female members\n",
        "df['Sex'].value_counts()"
      ],
      "metadata": {
        "id": "RSpqTmLYHb0e",
        "colab": {
          "base_uri": "https://localhost:8080/"
        },
        "outputId": "1ba124ad-4fc3-4674-83b6-f608f70e5092"
      },
      "execution_count": null,
      "outputs": [
        {
          "output_type": "execute_result",
          "data": {
            "text/plain": [
              " Male      21789\n",
              " Female    10771\n",
              "Name: Sex, dtype: int64"
            ]
          },
          "metadata": {},
          "execution_count": 76
        }
      ]
    },
    {
      "cell_type": "code",
      "source": [
        "#Mean of Age based on Salary\n",
        "df.groupby('Salary-Range').mean()['Age']"
      ],
      "metadata": {
        "id": "uZSi5JmbHgkZ",
        "colab": {
          "base_uri": "https://localhost:8080/"
        },
        "outputId": "7f07030e-1e7f-4b29-984a-f13737dc0fed"
      },
      "execution_count": null,
      "outputs": [
        {
          "output_type": "execute_result",
          "data": {
            "text/plain": [
              "Salary-Range\n",
              " <=50K    36.783648\n",
              " >50K     44.249841\n",
              "Name: Age, dtype: float64"
            ]
          },
          "metadata": {},
          "execution_count": 75
        }
      ]
    },
    {
      "cell_type": "code",
      "source": [
        "#SD of Age based on Salary\n",
        "df.groupby('Salary-Range').std()['Age']"
      ],
      "metadata": {
        "colab": {
          "base_uri": "https://localhost:8080/"
        },
        "id": "AiboSxeWOmOU",
        "outputId": "678ecda3-abba-4ebe-c125-5fb0ad8826f7"
      },
      "execution_count": null,
      "outputs": [
        {
          "output_type": "execute_result",
          "data": {
            "text/plain": [
              "Salary-Range\n",
              " <=50K    14.020365\n",
              " >50K     10.519028\n",
              "Name: Age, dtype: float64"
            ]
          },
          "metadata": {},
          "execution_count": 77
        }
      ]
    },
    {
      "cell_type": "code",
      "source": [
        "#Question 4\n",
        "#Is it true that people who earn more than 50K have at least high school education?\n",
        "\n",
        "df.groupby('Salary-Range')['Education'].head(20)     \n"
      ],
      "metadata": {
        "id": "tzsObTNTO70U",
        "colab": {
          "base_uri": "https://localhost:8080/"
        },
        "outputId": "0188ccd2-6586-48a2-f265-fbbfd088bfa3"
      },
      "execution_count": null,
      "outputs": [
        {
          "output_type": "execute_result",
          "data": {
            "text/plain": [
              "0         Bachelors\n",
              "1           HS-grad\n",
              "2              11th\n",
              "3         Bachelors\n",
              "4           Masters\n",
              "5               9th\n",
              "6           HS-grad\n",
              "7           Masters\n",
              "8         Bachelors\n",
              "9      Some-college\n",
              "10        Bachelors\n",
              "11        Bachelors\n",
              "12       Assoc-acdm\n",
              "13        Assoc-voc\n",
              "14          7th-8th\n",
              "15          HS-grad\n",
              "16          HS-grad\n",
              "17             11th\n",
              "18          Masters\n",
              "19        Doctorate\n",
              "20          HS-grad\n",
              "21              9th\n",
              "22             11th\n",
              "23          HS-grad\n",
              "24        Bachelors\n",
              "25          HS-grad\n",
              "26     Some-college\n",
              "27          HS-grad\n",
              "28          HS-grad\n",
              "29       Assoc-acdm\n",
              "37     Some-college\n",
              "44        Bachelors\n",
              "51      Prof-school\n",
              "52        Bachelors\n",
              "54     Some-college\n",
              "62        Doctorate\n",
              "66          HS-grad\n",
              "67     Some-college\n",
              "71        Bachelors\n",
              "83          HS-grad\n",
              "Name: Education, dtype: object"
            ]
          },
          "metadata": {},
          "execution_count": 21
        }
      ]
    },
    {
      "cell_type": "markdown",
      "source": [
        ""
      ],
      "metadata": {
        "id": "LzDCvKocsyz4"
      }
    },
    {
      "cell_type": "code",
      "source": [
        "#Question 5\n",
        "#Display age statistics for each race (race feature) and each gender (sex feature)\n",
        "\n",
        "print(\" Mean Statistics:\",df.groupby(['Sex','Race']).describe()['Age'])\n",
        "\n",
        "\n",
        "#print(\"\\nMedian Statistics:\",df.groupby('Sex').median()['Age'])\n",
        "#print(\"\\nMean Statistics:\",df.groupby('Race').mean()['Age'])\n",
        "#print(\"\\nMedian Statistics:\",df.groupby('Race').median()['Age'])\n",
        "#df.groupby('Race').apply(pd.DataFrame.mode)['Age']"
      ],
      "metadata": {
        "id": "9CmJawkXP29p",
        "colab": {
          "base_uri": "https://localhost:8080/"
        },
        "outputId": "0069671d-bdef-4f98-b488-af69c5de0a82"
      },
      "execution_count": null,
      "outputs": [
        {
          "output_type": "stream",
          "name": "stdout",
          "text": [
            " Mean Statistics:                                count       mean        std   min   25%   50%  \\\n",
            "Sex     Race                                                                   \n",
            " Female  Amer-Indian-Eskimo    119.0  37.117647  13.114991  17.0  27.0  36.0   \n",
            "         Asian-Pac-Islander    346.0  35.089595  12.300845  17.0  25.0  33.0   \n",
            "         Black                1555.0  37.854019  12.637197  17.0  28.0  37.0   \n",
            "         Other                 109.0  31.678899  11.631599  17.0  23.0  29.0   \n",
            "         White                8642.0  36.811618  14.329093  17.0  25.0  35.0   \n",
            " Male    Amer-Indian-Eskimo    192.0  37.208333  12.049563  17.0  28.0  35.0   \n",
            "         Asian-Pac-Islander    693.0  39.073593  12.883944  18.0  29.0  37.0   \n",
            "         Black                1569.0  37.682600  12.882612  17.0  27.0  36.0   \n",
            "         Other                 162.0  34.654321  11.355531  17.0  26.0  32.0   \n",
            "         White               19173.0  39.652532  13.436378  17.0  29.0  38.0   \n",
            "\n",
            "                               75%   max  \n",
            "Sex     Race                              \n",
            " Female  Amer-Indian-Eskimo  46.00  80.0  \n",
            "         Asian-Pac-Islander  43.75  75.0  \n",
            "         Black               46.00  90.0  \n",
            "         Other               39.00  74.0  \n",
            "         White               46.00  90.0  \n",
            " Male    Amer-Indian-Eskimo  45.00  82.0  \n",
            "         Asian-Pac-Islander  46.00  90.0  \n",
            "         Black               46.00  90.0  \n",
            "         Other               42.00  77.0  \n",
            "         White               49.00  90.0  \n"
          ]
        }
      ]
    },
    {
      "cell_type": "code",
      "source": [
        "#Question 6\n",
        "\"\"\" Among whom is the proportion of those who earn a lot (>50K) greater: married\n",
        "or single men (marital-status feature)? Consider as married those who have a marital-status\n",
        "starting with Married (Married-civ-spouse, Married-spouse-absent or Married-AF-spouse),\n",
        "the rest are considered bachelors.\"\"\"\n",
        "\n",
        "#Storing the data in a variable\n",
        "group2 =df[[\"Marital-Status\",\"Salary-Range\"]].groupby([\"Marital-Status\"], as_index=False).count()\n",
        "group2\n",
        "group2.get_group(\"Married-civ-spouse\")"
      ],
      "metadata": {
        "id": "zW4qk-jCP46Q",
        "colab": {
          "base_uri": "https://localhost:8080/",
          "height": 269
        },
        "outputId": "6452898c-f813-4a16-d7f6-69b8e205cacc"
      },
      "execution_count": null,
      "outputs": [
        {
          "output_type": "execute_result",
          "data": {
            "text/plain": [
              "           Marital-Status  Salary-Range\n",
              "0                Divorced          4443\n",
              "1       Married-AF-spouse            23\n",
              "2      Married-civ-spouse         14976\n",
              "3   Married-spouse-absent           418\n",
              "4           Never-married         10682\n",
              "5               Separated          1025\n",
              "6                 Widowed           993"
            ],
            "text/html": [
              "\n",
              "  <div id=\"df-b7bb921c-a76b-492f-8405-7f9b5cf0812c\">\n",
              "    <div class=\"colab-df-container\">\n",
              "      <div>\n",
              "<style scoped>\n",
              "    .dataframe tbody tr th:only-of-type {\n",
              "        vertical-align: middle;\n",
              "    }\n",
              "\n",
              "    .dataframe tbody tr th {\n",
              "        vertical-align: top;\n",
              "    }\n",
              "\n",
              "    .dataframe thead th {\n",
              "        text-align: right;\n",
              "    }\n",
              "</style>\n",
              "<table border=\"1\" class=\"dataframe\">\n",
              "  <thead>\n",
              "    <tr style=\"text-align: right;\">\n",
              "      <th></th>\n",
              "      <th>Marital-Status</th>\n",
              "      <th>Salary-Range</th>\n",
              "    </tr>\n",
              "  </thead>\n",
              "  <tbody>\n",
              "    <tr>\n",
              "      <th>0</th>\n",
              "      <td>Divorced</td>\n",
              "      <td>4443</td>\n",
              "    </tr>\n",
              "    <tr>\n",
              "      <th>1</th>\n",
              "      <td>Married-AF-spouse</td>\n",
              "      <td>23</td>\n",
              "    </tr>\n",
              "    <tr>\n",
              "      <th>2</th>\n",
              "      <td>Married-civ-spouse</td>\n",
              "      <td>14976</td>\n",
              "    </tr>\n",
              "    <tr>\n",
              "      <th>3</th>\n",
              "      <td>Married-spouse-absent</td>\n",
              "      <td>418</td>\n",
              "    </tr>\n",
              "    <tr>\n",
              "      <th>4</th>\n",
              "      <td>Never-married</td>\n",
              "      <td>10682</td>\n",
              "    </tr>\n",
              "    <tr>\n",
              "      <th>5</th>\n",
              "      <td>Separated</td>\n",
              "      <td>1025</td>\n",
              "    </tr>\n",
              "    <tr>\n",
              "      <th>6</th>\n",
              "      <td>Widowed</td>\n",
              "      <td>993</td>\n",
              "    </tr>\n",
              "  </tbody>\n",
              "</table>\n",
              "</div>\n",
              "      <button class=\"colab-df-convert\" onclick=\"convertToInteractive('df-b7bb921c-a76b-492f-8405-7f9b5cf0812c')\"\n",
              "              title=\"Convert this dataframe to an interactive table.\"\n",
              "              style=\"display:none;\">\n",
              "        \n",
              "  <svg xmlns=\"http://www.w3.org/2000/svg\" height=\"24px\"viewBox=\"0 0 24 24\"\n",
              "       width=\"24px\">\n",
              "    <path d=\"M0 0h24v24H0V0z\" fill=\"none\"/>\n",
              "    <path d=\"M18.56 5.44l.94 2.06.94-2.06 2.06-.94-2.06-.94-.94-2.06-.94 2.06-2.06.94zm-11 1L8.5 8.5l.94-2.06 2.06-.94-2.06-.94L8.5 2.5l-.94 2.06-2.06.94zm10 10l.94 2.06.94-2.06 2.06-.94-2.06-.94-.94-2.06-.94 2.06-2.06.94z\"/><path d=\"M17.41 7.96l-1.37-1.37c-.4-.4-.92-.59-1.43-.59-.52 0-1.04.2-1.43.59L10.3 9.45l-7.72 7.72c-.78.78-.78 2.05 0 2.83L4 21.41c.39.39.9.59 1.41.59.51 0 1.02-.2 1.41-.59l7.78-7.78 2.81-2.81c.8-.78.8-2.07 0-2.86zM5.41 20L4 18.59l7.72-7.72 1.47 1.35L5.41 20z\"/>\n",
              "  </svg>\n",
              "      </button>\n",
              "      \n",
              "  <style>\n",
              "    .colab-df-container {\n",
              "      display:flex;\n",
              "      flex-wrap:wrap;\n",
              "      gap: 12px;\n",
              "    }\n",
              "\n",
              "    .colab-df-convert {\n",
              "      background-color: #E8F0FE;\n",
              "      border: none;\n",
              "      border-radius: 50%;\n",
              "      cursor: pointer;\n",
              "      display: none;\n",
              "      fill: #1967D2;\n",
              "      height: 32px;\n",
              "      padding: 0 0 0 0;\n",
              "      width: 32px;\n",
              "    }\n",
              "\n",
              "    .colab-df-convert:hover {\n",
              "      background-color: #E2EBFA;\n",
              "      box-shadow: 0px 1px 2px rgba(60, 64, 67, 0.3), 0px 1px 3px 1px rgba(60, 64, 67, 0.15);\n",
              "      fill: #174EA6;\n",
              "    }\n",
              "\n",
              "    [theme=dark] .colab-df-convert {\n",
              "      background-color: #3B4455;\n",
              "      fill: #D2E3FC;\n",
              "    }\n",
              "\n",
              "    [theme=dark] .colab-df-convert:hover {\n",
              "      background-color: #434B5C;\n",
              "      box-shadow: 0px 1px 3px 1px rgba(0, 0, 0, 0.15);\n",
              "      filter: drop-shadow(0px 1px 2px rgba(0, 0, 0, 0.3));\n",
              "      fill: #FFFFFF;\n",
              "    }\n",
              "  </style>\n",
              "\n",
              "      <script>\n",
              "        const buttonEl =\n",
              "          document.querySelector('#df-b7bb921c-a76b-492f-8405-7f9b5cf0812c button.colab-df-convert');\n",
              "        buttonEl.style.display =\n",
              "          google.colab.kernel.accessAllowed ? 'block' : 'none';\n",
              "\n",
              "        async function convertToInteractive(key) {\n",
              "          const element = document.querySelector('#df-b7bb921c-a76b-492f-8405-7f9b5cf0812c');\n",
              "          const dataTable =\n",
              "            await google.colab.kernel.invokeFunction('convertToInteractive',\n",
              "                                                     [key], {});\n",
              "          if (!dataTable) return;\n",
              "\n",
              "          const docLinkHtml = 'Like what you see? Visit the ' +\n",
              "            '<a target=\"_blank\" href=https://colab.research.google.com/notebooks/data_table.ipynb>data table notebook</a>'\n",
              "            + ' to learn more about interactive tables.';\n",
              "          element.innerHTML = '';\n",
              "          dataTable['output_type'] = 'display_data';\n",
              "          await google.colab.output.renderOutput(dataTable, element);\n",
              "          const docLink = document.createElement('div');\n",
              "          docLink.innerHTML = docLinkHtml;\n",
              "          element.appendChild(docLink);\n",
              "        }\n",
              "      </script>\n",
              "    </div>\n",
              "  </div>\n",
              "  "
            ]
          },
          "metadata": {},
          "execution_count": 75
        }
      ]
    },
    {
      "cell_type": "code",
      "source": [
        "#group2.get_group(\"Married-civ-spouse\")['Marital-Status']\n",
        "df2 = {group2['Marital-Status'].get(1):group2[\"Salary-Range\"].get(1),\n",
        "       group2['Marital-Status'].get(2):group2[\"Salary-Range\"].get(2),\n",
        "       group2['Marital-Status'].get(3):group2[\"Salary-Range\"].get(3)}\n",
        "df2\n"
      ],
      "metadata": {
        "colab": {
          "base_uri": "https://localhost:8080/"
        },
        "id": "GDVYXjeQUjX2",
        "outputId": "439b8d57-e8d3-49d1-e285-972c6f60e7fc"
      },
      "execution_count": null,
      "outputs": [
        {
          "output_type": "execute_result",
          "data": {
            "text/plain": [
              "{' Married-AF-spouse': 23,\n",
              " ' Married-civ-spouse': 14976,\n",
              " ' Married-spouse-absent': 418}"
            ]
          },
          "metadata": {},
          "execution_count": 73
        }
      ]
    },
    {
      "cell_type": "code",
      "source": [
        "# Finding the count \n",
        "group.get_group(\"Divorced\")[\"Salary-Range\"]"
      ],
      "metadata": {
        "colab": {
          "base_uri": "https://localhost:8080/",
          "height": 300
        },
        "id": "l1_Qk5XkIU9_",
        "outputId": "df397f10-91f8-400c-b577-157afb1727a4"
      },
      "execution_count": null,
      "outputs": [
        {
          "output_type": "error",
          "ename": "KeyError",
          "evalue": "ignored",
          "traceback": [
            "\u001b[0;31m---------------------------------------------------------------------------\u001b[0m",
            "\u001b[0;31mKeyError\u001b[0m                                  Traceback (most recent call last)",
            "\u001b[0;32m<ipython-input-26-59880e12ad5d>\u001b[0m in \u001b[0;36m<module>\u001b[0;34m()\u001b[0m\n\u001b[1;32m      1\u001b[0m \u001b[0;31m# Finding the count\u001b[0m\u001b[0;34m\u001b[0m\u001b[0;34m\u001b[0m\u001b[0;34m\u001b[0m\u001b[0m\n\u001b[0;32m----> 2\u001b[0;31m \u001b[0mgroup\u001b[0m\u001b[0;34m.\u001b[0m\u001b[0mget_group\u001b[0m\u001b[0;34m(\u001b[0m\u001b[0;34m\"Divorced\"\u001b[0m\u001b[0;34m)\u001b[0m\u001b[0;34m[\u001b[0m\u001b[0;34m\"Salary-Range\"\u001b[0m\u001b[0;34m]\u001b[0m\u001b[0;34m\u001b[0m\u001b[0;34m\u001b[0m\u001b[0m\n\u001b[0m",
            "\u001b[0;32m/usr/local/lib/python3.7/dist-packages/pandas/core/groupby/groupby.py\u001b[0m in \u001b[0;36mget_group\u001b[0;34m(self, name, obj)\u001b[0m\n\u001b[1;32m    752\u001b[0m         \u001b[0minds\u001b[0m \u001b[0;34m=\u001b[0m \u001b[0mself\u001b[0m\u001b[0;34m.\u001b[0m\u001b[0m_get_index\u001b[0m\u001b[0;34m(\u001b[0m\u001b[0mname\u001b[0m\u001b[0;34m)\u001b[0m\u001b[0;34m\u001b[0m\u001b[0;34m\u001b[0m\u001b[0m\n\u001b[1;32m    753\u001b[0m         \u001b[0;32mif\u001b[0m \u001b[0;32mnot\u001b[0m \u001b[0mlen\u001b[0m\u001b[0;34m(\u001b[0m\u001b[0minds\u001b[0m\u001b[0;34m)\u001b[0m\u001b[0;34m:\u001b[0m\u001b[0;34m\u001b[0m\u001b[0;34m\u001b[0m\u001b[0m\n\u001b[0;32m--> 754\u001b[0;31m             \u001b[0;32mraise\u001b[0m \u001b[0mKeyError\u001b[0m\u001b[0;34m(\u001b[0m\u001b[0mname\u001b[0m\u001b[0;34m)\u001b[0m\u001b[0;34m\u001b[0m\u001b[0;34m\u001b[0m\u001b[0m\n\u001b[0m\u001b[1;32m    755\u001b[0m \u001b[0;34m\u001b[0m\u001b[0m\n\u001b[1;32m    756\u001b[0m         \u001b[0;32mreturn\u001b[0m \u001b[0mobj\u001b[0m\u001b[0;34m.\u001b[0m\u001b[0m_take_with_is_copy\u001b[0m\u001b[0;34m(\u001b[0m\u001b[0minds\u001b[0m\u001b[0;34m,\u001b[0m \u001b[0maxis\u001b[0m\u001b[0;34m=\u001b[0m\u001b[0mself\u001b[0m\u001b[0;34m.\u001b[0m\u001b[0maxis\u001b[0m\u001b[0;34m)\u001b[0m\u001b[0;34m\u001b[0m\u001b[0;34m\u001b[0m\u001b[0m\n",
            "\u001b[0;31mKeyError\u001b[0m: 'Divorced'"
          ]
        }
      ]
    },
    {
      "cell_type": "code",
      "source": [
        "list=['Married-civ-spouse', 'Married-spouse-absent','Married-AF-spouse']\n",
        "#df.filter(df.loc['Marital Status'].isin(list))\n",
        "#df.loc[df['Marital Status']]\n",
        "df[\"Marital-Status\"].str.startswith(\"Married\")"
      ],
      "metadata": {
        "id": "W08R2nu5a-Hb",
        "colab": {
          "base_uri": "https://localhost:8080/"
        },
        "outputId": "613d6260-ee41-45c7-a986-ab6670228c5f"
      },
      "execution_count": null,
      "outputs": [
        {
          "output_type": "execute_result",
          "data": {
            "text/plain": [
              "0        False\n",
              "1        False\n",
              "2        False\n",
              "3        False\n",
              "4        False\n",
              "         ...  \n",
              "32555    False\n",
              "32556    False\n",
              "32557    False\n",
              "32558    False\n",
              "32559    False\n",
              "Name: Marital-Status, Length: 32560, dtype: bool"
            ]
          },
          "metadata": {},
          "execution_count": 85
        }
      ]
    },
    {
      "cell_type": "code",
      "source": [
        "df1=df.groupby('Salary-Range')['Salary-Range','Education','Education-num'].head(20)\n",
        "#(df['Salary-Range'] == ' >50K' and df['Education-num'] > 9)\n",
        "\n",
        "data_query = df[(df['Education-num'] > 9) & (df['Salary-Range'].str.startswith(\" >\"))]\n",
        "print(data_query)"
      ],
      "metadata": {
        "id": "DV6xYq7DUQUB",
        "colab": {
          "base_uri": "https://localhost:8080/"
        },
        "outputId": "b662fa63-e87d-45ce-bf2f-9f2936c177b7"
      },
      "execution_count": 92,
      "outputs": [
        {
          "output_type": "stream",
          "name": "stdout",
          "text": [
            "       Age Employement  Salary      Education  Education-num  \\\n",
            "7       31     Private   45781        Masters             14   \n",
            "8       42     Private  159449      Bachelors             13   \n",
            "9       37     Private  280464   Some-college             10   \n",
            "10      30   State-gov  141297      Bachelors             13   \n",
            "13      40     Private  121772      Assoc-voc             11   \n",
            "...    ...         ...     ...            ...            ...   \n",
            "32535   34     Private  160216      Bachelors             13   \n",
            "32537   38     Private  139180      Bachelors             13   \n",
            "32538   71           ?  287372      Doctorate             16   \n",
            "32544   39   Local-gov  111499     Assoc-acdm             12   \n",
            "32553   53     Private  321865        Masters             14   \n",
            "\n",
            "            Marital-Status        Profession    Relationship  \\\n",
            "7            Never-married    Prof-specialty   Not-in-family   \n",
            "8       Married-civ-spouse   Exec-managerial         Husband   \n",
            "9       Married-civ-spouse   Exec-managerial         Husband   \n",
            "10      Married-civ-spouse    Prof-specialty         Husband   \n",
            "13      Married-civ-spouse      Craft-repair         Husband   \n",
            "...                    ...               ...             ...   \n",
            "32535        Never-married   Exec-managerial   Not-in-family   \n",
            "32537             Divorced    Prof-specialty       Unmarried   \n",
            "32538   Married-civ-spouse                 ?         Husband   \n",
            "32544   Married-civ-spouse      Adm-clerical            Wife   \n",
            "32553   Married-civ-spouse   Exec-managerial         Husband   \n",
            "\n",
            "                      Race      Sex  Capital-Gain  Capital-Loss  hpw  \\\n",
            "7                    White   Female         14084             0   50   \n",
            "8                    White     Male          5178             0   40   \n",
            "9                    Black     Male             0             0   80   \n",
            "10      Asian-Pac-Islander     Male             0             0   40   \n",
            "13      Asian-Pac-Islander     Male             0             0   40   \n",
            "...                    ...      ...           ...           ...  ...   \n",
            "32535                White   Female             0             0   55   \n",
            "32537                Black   Female         15020             0   45   \n",
            "32538                White     Male             0             0   10   \n",
            "32544                White   Female             0             0   20   \n",
            "32553                White     Male             0             0   40   \n",
            "\n",
            "              Country Salary-Range  \n",
            "7       United-States         >50K  \n",
            "8       United-States         >50K  \n",
            "9       United-States         >50K  \n",
            "10              India         >50K  \n",
            "13                  ?         >50K  \n",
            "...               ...          ...  \n",
            "32535   United-States         >50K  \n",
            "32537   United-States         >50K  \n",
            "32538   United-States         >50K  \n",
            "32544   United-States         >50K  \n",
            "32553   United-States         >50K  \n",
            "\n",
            "[5922 rows x 15 columns]\n"
          ]
        },
        {
          "output_type": "stream",
          "name": "stderr",
          "text": [
            "/usr/local/lib/python3.7/dist-packages/ipykernel_launcher.py:1: FutureWarning: Indexing with multiple keys (implicitly converted to a tuple of keys) will be deprecated, use a list instead.\n",
            "  \"\"\"Entry point for launching an IPython kernel.\n"
          ]
        }
      ]
    },
    {
      "cell_type": "code",
      "source": [
        "df['Salary-Range'] == ' >50K'"
      ],
      "metadata": {
        "colab": {
          "base_uri": "https://localhost:8080/"
        },
        "id": "zMcWmySnfvMp",
        "outputId": "dad62777-3a3a-4f2d-ecbc-62dd1fb57b30"
      },
      "execution_count": null,
      "outputs": [
        {
          "output_type": "execute_result",
          "data": {
            "text/plain": [
              "0        False\n",
              "1        False\n",
              "2        False\n",
              "3        False\n",
              "4        False\n",
              "         ...  \n",
              "32555    False\n",
              "32556     True\n",
              "32557    False\n",
              "32558    False\n",
              "32559     True\n",
              "Name: Salary-Range, Length: 32560, dtype: bool"
            ]
          },
          "metadata": {},
          "execution_count": 79
        }
      ]
    },
    {
      "cell_type": "code",
      "source": [
        ""
      ],
      "metadata": {
        "id": "V-K9U6xFfwDq"
      },
      "execution_count": null,
      "outputs": []
    }
  ]
}